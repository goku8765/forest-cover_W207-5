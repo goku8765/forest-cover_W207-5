{
 "cells": [
  {
   "cell_type": "markdown",
   "metadata": {},
   "source": [
    "# Import Libraries"
   ]
  },
  {
   "cell_type": "code",
   "execution_count": 26,
   "metadata": {},
   "outputs": [],
   "source": [
    "%matplotlib inline\n",
    "\n",
    "import matplotlib.pyplot as plt\n",
    "import numpy as np\n",
    "import pandas as pd\n",
    "import time\n",
    "import pdb\n",
    "\n",
    "from sklearn.neighbors import KNeighborsClassifier\n",
    "from sklearn.linear_model import LogisticRegression\n",
    "from sklearn.model_selection import train_test_split\n",
    "from sklearn.tree import DecisionTreeClassifier\n",
    "from sklearn.model_selection import GridSearchCV\n",
    "from sklearn.model_selection import RandomizedSearchCV\n",
    "from sklearn.model_selection import cross_val_score\n",
    "from sklearn.model_selection import KFold\n",
    "from sklearn.ensemble import RandomForestClassifier\n",
    "from sklearn.ensemble import AdaBoostClassifier \n",
    "from sklearn.ensemble import GradientBoostingClassifier\n",
    "from sklearn.ensemble import VotingClassifier\n",
    "from sklearn.metrics import r2_score\n",
    "from sklearn.metrics import mean_squared_error\n",
    "from sklearn.metrics import classification_report\n",
    "from sklearn.metrics import confusion_matrix\n",
    "from sklearn.preprocessing import StandardScaler\n",
    "from sklearn.svm import LinearSVC\n",
    "from sklearn.externals.six import StringIO\n",
    "from sklearn.externals import joblib\n",
    "from IPython.core.display import Image, display\n",
    "from sklearn.naive_bayes import BernoulliNB\n",
    "from sklearn.naive_bayes import MultinomialNB\n",
    "from sklearn.naive_bayes import GaussianNB\n",
    "from sklearn.metrics import accuracy_score\n",
    "import seaborn as sns\n",
    "sns.set(style=\"ticks\")"
   ]
  },
  {
   "cell_type": "markdown",
   "metadata": {},
   "source": [
    "# EDA"
   ]
  },
  {
   "cell_type": "code",
   "execution_count": 6,
   "metadata": {
    "scrolled": true
   },
   "outputs": [
    {
     "name": "stdout",
     "output_type": "stream",
     "text": [
      "Is any null value in this data: False\n",
      "Raw training set shape: (15120, 56)\n",
      "['Elevation', 'Aspect', 'Slope', 'Horizontal_Distance_To_Hydrology', 'Vertical_Distance_To_Hydrology', 'Horizontal_Distance_To_Roadways', 'Hillshade_9am', 'Hillshade_Noon', 'Hillshade_3pm', 'Horizontal_Distance_To_Fire_Points', 'Wilderness_Area1', 'Wilderness_Area2', 'Wilderness_Area3', 'Wilderness_Area4', 'Soil_Type1', 'Soil_Type2', 'Soil_Type3', 'Soil_Type4', 'Soil_Type5', 'Soil_Type6', 'Soil_Type7', 'Soil_Type8', 'Soil_Type9', 'Soil_Type10', 'Soil_Type11', 'Soil_Type12', 'Soil_Type13', 'Soil_Type14', 'Soil_Type15', 'Soil_Type16', 'Soil_Type17', 'Soil_Type18', 'Soil_Type19', 'Soil_Type20', 'Soil_Type21', 'Soil_Type22', 'Soil_Type23', 'Soil_Type24', 'Soil_Type25', 'Soil_Type26', 'Soil_Type27', 'Soil_Type28', 'Soil_Type29', 'Soil_Type30', 'Soil_Type31', 'Soil_Type32', 'Soil_Type33', 'Soil_Type34', 'Soil_Type35', 'Soil_Type36', 'Soil_Type37', 'Soil_Type38', 'Soil_Type39', 'Soil_Type40']\n"
     ]
    }
   ],
   "source": [
    "# load data\n",
    "train_df = pd.read_csv('train.csv')\n",
    "\n",
    "# check for missing values in frame. \n",
    "print(\"Is any null value in this data:\", train_df.isnull().values.any())\n",
    "print(\"Raw training set shape:\", train_df.shape)\n",
    "\n",
    "predictors = list(train_df) # includes ID and target/class columns\n",
    "train_id = predictors.pop(0) # pop out ID column\n",
    "target = list.pop(predictors) # pop out target column\n",
    "print(predictors)\n",
    "\n",
    "### We intend to verify that the binary features are mutually exclusive (wilderness and soils features). \n",
    "soils_only_df = train_df[train_df.columns[15:-1]] # extract columns of soil types. leave out the class column.\n",
    "sums = soils_only_df.sum(axis=1) # total each row. \n",
    "for i in range(sums.shape[0]):\n",
    "    if sums.iloc[i] != 1:\n",
    "        print(\"Not mutually exclusive or no soil type in this sample:\", i)\n",
    "wilderness_only_df = train_df[train_df.columns[11:15]] # extract columns of wilderness types\n",
    "sums = wilderness_only_df.sum(axis=1) # total each row. \n",
    "for i in range(sums.shape[0]):\n",
    "    if sums.iloc[i] != 1:\n",
    "        print(\"Not mutually exclusive or no wilderness type in this sample:\", i)\n",
    "\n",
    "# Now, combine all soil columns into a single soil multifactor column. Ditto for Wilderness_Area* \n",
    "# Caveat: The train data's ID starts from 1, while panda's index starts from 0. \n",
    "# Don't forget to tag on the class column. \n",
    "\n",
    "### make a function out of this as well. will need it to transform actual test data. \n",
    "train_mod_df = train_df.iloc[:,:11].copy() # grab all rows from 0 thru 10. \n",
    "train_mod_df['WILDERNESS']=0 # Replaces Wilderness_Area* features. \n",
    "train_mod_df['SOILS']=0 # Replaces Soil_Type* features. \n",
    "\n",
    "for index, row in train_df.iterrows():\n",
    "    for j in range(15,row.shape[0]-1): # make sure you don't grab the class column\n",
    "        if row.iloc[j] == 1.0:\n",
    "            train_mod_df.loc[index,'SOILS'] = j-14 # values start from 1\n",
    "\n",
    "for index, row in train_df.iterrows():\n",
    "    for j in range(11,15): # make sure you don't grab the class column\n",
    "        if row.iloc[j] == 1.0:\n",
    "            train_mod_df.loc[index,'WILDERNESS'] = j-10 # values start from 1\n",
    "\n",
    "train_mod_df[target] = train_df[target] # Add back the Class column"
   ]
  },
  {
   "cell_type": "code",
   "execution_count": 7,
   "metadata": {},
   "outputs": [
    {
     "data": {
      "text/plain": [
       "(15120, 14)"
      ]
     },
     "execution_count": 7,
     "metadata": {},
     "output_type": "execute_result"
    }
   ],
   "source": [
    "# Rename dataframe for consistency\n",
    "train_df = train_mod_df\n",
    "train_df.shape"
   ]
  },
  {
   "cell_type": "code",
   "execution_count": 8,
   "metadata": {},
   "outputs": [
    {
     "name": "stdout",
     "output_type": "stream",
     "text": [
      "['Elevation', 'Aspect', 'Slope', 'Horizontal_Distance_To_Hydrology', 'Vertical_Distance_To_Hydrology', 'Horizontal_Distance_To_Roadways', 'Hillshade_9am', 'Hillshade_Noon', 'Hillshade_3pm', 'Horizontal_Distance_To_Fire_Points', 'WILDERNESS', 'SOILS']\n"
     ]
    },
    {
     "data": {
      "image/png": "[encoded data removed]",
      "text/plain": [
       "<matplotlib.figure.Figure at 0x10e9cfcf8>"
      ]
     },
     "metadata": {},
     "output_type": "display_data"
    },
    {
     "name": "stderr",
     "output_type": "stream",
     "text": [
      "/Users/heatherfeinstein/anaconda/lib/python3.6/site-packages/pandas/core/frame.py:2450: SettingWithCopyWarning: \n",
      "A value is trying to be set on a copy of a slice from a DataFrame.\n",
      "Try using .loc[row_indexer,col_indexer] = value instead\n",
      "\n",
      "See the caveats in the documentation: http://pandas.pydata.org/pandas-docs/stable/indexing.html#indexing-view-versus-copy\n",
      "  self[k1] = value[k2]\n"
     ]
    },
    {
     "name": "stdout",
     "output_type": "stream",
     "text": [
      "After split, Train and Dev dataset shapes are: (12096, 14) (3024, 14)\n"
     ]
    },
    {
     "data": {
      "image/png": "[encoded data removed]",
      "text/plain": [
       "<matplotlib.figure.Figure at 0x10f08ef28>"
      ]
     },
     "metadata": {},
     "output_type": "display_data"
    },
    {
     "data": {
      "image/png": "[encoded data removed]",
      "text/plain": [
       "<matplotlib.figure.Figure at 0x1144cdcf8>"
      ]
     },
     "metadata": {},
     "output_type": "display_data"
    }
   ],
   "source": [
    "# Get predictors out again\n",
    "predictors = list(train_df) # includes ID and target/class columns\n",
    "train_id = predictors.pop(0) # pop out ID column\n",
    "target = list.pop(predictors) # pop out target column\n",
    "print(predictors)\n",
    "\n",
    "# two kinds of normalization - min-max or z-score. z-score may lead to negative values for otherwise non-negative quantities \n",
    "# (such as altitude) - which may be ok from a prediction standpoint \n",
    "\n",
    "# Need to store these values for normalizing new data presented to the eventual model for prediction. \n",
    "train_df_mean =  train_df.mean().astype(float)\n",
    "train_df_sd = train_df.std().astype(float)\n",
    "train_df_min = train_df.min().astype(float)\n",
    "train_df_max = train_df.max().astype(float)\n",
    "\n",
    "# plot cover type histogram, check to see if any stratification is required for train,dev split. \n",
    "plt.figure(figsize=(4, 2))\n",
    "ax = train_df['Cover_Type'].hist(bins=14)\n",
    "ax.set_title('Cover_Type')\n",
    "plt.show()\n",
    "train_df, dev_df = train_test_split(train_df,test_size=0.2)\n",
    "\n",
    "### plot histograms before and after min-max normalization\n",
    "# display histograms for basic EDA. titles in Red. \n",
    "plt.figure(figsize=(35, 35))\n",
    "plt.subplots_adjust(hspace=1.0,wspace=0.5)\n",
    "for i in range(0,len(predictors)):\n",
    "    plt.subplot(20,10,i+1)\n",
    "    data = train_df[predictors[i]].T # transposing to view counts on y-axis\n",
    "    ax = data.hist()\n",
    "    #ax.axis([train_df_min[predictors][i], train_df_max[predictors][i], 0, 4000])\n",
    "    ax.set_title(predictors[i],color='Red')\n",
    "\n",
    "# going with min-max. tries z-scores before, but now doubt it will work well for SOIL and WILDERNESS\n",
    "train_df[predictors] = (train_df[predictors]-train_df_min[predictors])/(train_df_max[predictors]-train_df_min[predictors])\n",
    "dev_df[predictors] = (dev_df[predictors]-train_df_min[predictors])/(train_df_max[predictors]-train_df_min[predictors])\n",
    "\n",
    "print(\"After split, Train and Dev dataset shapes are:\",train_df.shape, dev_df.shape)\n",
    "\n",
    "# display histograms post normalization. Titles in Green.\n",
    "plt.figure(figsize=(35, 35))\n",
    "plt.subplots_adjust(hspace=1.0,wspace=0.5)\n",
    "for i in range(0,len(predictors)):\n",
    "    plt.subplot(20,10,i+1)\n",
    "    data = train_df[predictors[i]].T # transposing to view counts on y-axis\n",
    "    aax = data.hist()\n",
    "    aax.set_title(predictors[i],color='Green') \n",
    "    \n",
    "#spm = pd.plotting.scatter_matrix(train_df[predictors[0:10]], alpha=0.5, figsize=(15,15), diagonal='hist')\n",
    "#sns.pairplot(train_df[predictors[10:]])"
   ]
  },
  {
   "cell_type": "markdown",
   "metadata": {},
   "source": [
    "# Base Model"
   ]
  },
  {
   "cell_type": "code",
   "execution_count": 10,
   "metadata": {},
   "outputs": [
    {
     "name": "stdout",
     "output_type": "stream",
     "text": [
      "# Tuning hyper-parameters for precision_weighted\n",
      "\n",
      "Best parameters set found on training data:\n",
      "\n",
      " KNeighborsClassifier(algorithm='ball_tree', leaf_size=30, metric='minkowski',\n",
      "           metric_params=None, n_jobs=1, n_neighbors=4, p=2,\n",
      "           weights='distance') \n",
      "\n",
      "# Tuning hyper-parameters for recall_weighted\n",
      "\n",
      "Best parameters set found on training data:\n",
      "\n",
      " KNeighborsClassifier(algorithm='ball_tree', leaf_size=30, metric='minkowski',\n",
      "           metric_params=None, n_jobs=1, n_neighbors=4, p=2,\n",
      "           weights='distance') \n",
      "\n"
     ]
    }
   ],
   "source": [
    "# defining best parameters for knn \n",
    "# (we searched other values of k but for the sake of runtime have now limited the list)\n",
    "tuned_parameters = [{'n_neighbors': [1, 2, 3, 4, 5],\n",
    "'weights': ['distance', 'uniform'],\n",
    "'algorithm': ['ball_tree', 'kd_tree', 'brute']}]\n",
    "scores = ['precision_weighted', 'recall_weighted']\n",
    "performances = [];\n",
    "for score in scores:\n",
    "    print(\"# Tuning hyper-parameters for %s\" % score)\n",
    "    print()\n",
    "    clf = GridSearchCV(KNeighborsClassifier(), tuned_parameters, cv=10, scoring=score)\n",
    "    clf.fit(train_df[predictors], train_df[target])\n",
    "    print(\"Best parameters set found on training data:\")\n",
    "    print('\\n', clf.best_estimator_, '\\n')"
   ]
  },
  {
   "cell_type": "code",
   "execution_count": 41,
   "metadata": {},
   "outputs": [
    {
     "name": "stdout",
     "output_type": "stream",
     "text": [
      "             precision    recall  f1-score   support\n",
      "\n",
      "          1       0.77      0.71      0.74       408\n",
      "          2       0.71      0.65      0.68       440\n",
      "          3       0.81      0.69      0.74       443\n",
      "          4       0.88      0.94      0.91       447\n",
      "          5       0.85      0.91      0.88       419\n",
      "          6       0.72      0.81      0.76       407\n",
      "          7       0.93      0.97      0.95       460\n",
      "\n",
      "avg / total       0.81      0.81      0.81      3024\n",
      "\n"
     ]
    }
   ],
   "source": [
    "# our base model is knn we will attempt to improve our accuracy score from here\n",
    "\n",
    "knn = KNeighborsClassifier(n_neighbors=1, algorithm='ball_tree', leaf_size=30)\n",
    "knn.fit(train_df[predictors], train_df[target])\n",
    "dev_pred = knn.predict(dev_df[predictors])\n",
    "print(classification_report(dev_df[target],dev_pred))"
   ]
  },
  {
   "cell_type": "markdown",
   "metadata": {},
   "source": [
    "# Weak Models"
   ]
  },
  {
   "cell_type": "code",
   "execution_count": 27,
   "metadata": {},
   "outputs": [
    {
     "name": "stdout",
     "output_type": "stream",
     "text": [
      "NB binarized accuracy: 0.446428571429\n",
      "NB Gaussian accuracy: 0.587962962963\n"
     ]
    }
   ],
   "source": [
    "# naive bayes not a good result\n",
    "\n",
    "#instantiate and binarize data\n",
    "clf = BernoulliNB(binarize=0.5)\n",
    "#fit model\n",
    "mod = clf.fit(train_df[predictors],train_df[target])\n",
    "#predict on dev\n",
    "dev_pred = mod.predict(dev_df[predictors])\n",
    "#accuracy score\n",
    "print (\"NB binarized accuracy:\", accuracy_score(dev_df[target],dev_pred))\n",
    "\n",
    "#instantiate and binarize data\n",
    "clf = GaussianNB()\n",
    "#fit model\n",
    "mod = clf.fit(train_df[predictors],train_df[target])\n",
    "#predict on dev\n",
    "dev_pred = mod.predict(dev_df[predictors])\n",
    "#accuracy score\n",
    "print (\"NB Gaussian accuracy:\", accuracy_score(dev_df[target],dev_pred))"
   ]
  },
  {
   "cell_type": "code",
   "execution_count": 12,
   "metadata": {},
   "outputs": [
    {
     "name": "stdout",
     "output_type": "stream",
     "text": [
      "             precision    recall  f1-score   support\n",
      "\n",
      "          1       0.59      0.45      0.51       408\n",
      "          2       0.53      0.43      0.47       440\n",
      "          3       0.53      0.45      0.49       443\n",
      "          4       0.74      0.91      0.81       447\n",
      "          5       0.56      0.52      0.54       419\n",
      "          6       0.50      0.62      0.55       407\n",
      "          7       0.77      0.91      0.84       460\n",
      "\n",
      "avg / total       0.61      0.62      0.61      3024\n",
      "\n"
     ]
    }
   ],
   "source": [
    "# Attempt linear support vector classifier, weak results\n",
    "\n",
    "lsvc = LinearSVC(C=1)\n",
    "lsvc.fit(train_df[predictors],train_df[target])\n",
    "dev_pred = lsvc.predict(dev_df[predictors])\n",
    "print(classification_report(dev_df[target],dev_pred))"
   ]
  },
  {
   "cell_type": "code",
   "execution_count": 29,
   "metadata": {},
   "outputs": [
    {
     "name": "stdout",
     "output_type": "stream",
     "text": [
      "             precision    recall  f1-score   support\n",
      "\n",
      "          1       0.64      0.62      0.63       408\n",
      "          2       0.57      0.47      0.52       440\n",
      "          3       0.57      0.46      0.51       443\n",
      "          4       0.75      0.86      0.80       447\n",
      "          5       0.62      0.69      0.65       419\n",
      "          6       0.55      0.62      0.58       407\n",
      "          7       0.85      0.88      0.87       460\n",
      "\n",
      "avg / total       0.65      0.66      0.65      3024\n",
      "\n"
     ]
    }
   ],
   "source": [
    "# Attempt softmax regression, weak results\n",
    "\n",
    "softmax_reg = LogisticRegression(multi_class=\"multinomial\",solver=\"lbfgs\",C=4)\n",
    "softmax_reg.fit(train_df[predictors], train_df[target])\n",
    "dev_pred = softmax_reg.predict(dev_df[predictors])\n",
    "print(classification_report(dev_df[target],dev_pred))"
   ]
  },
  {
   "cell_type": "markdown",
   "metadata": {},
   "source": [
    "# Random Forest\n",
    "\n",
    "## Tree bagging method (simplified random forest): repeat random sampling in the data to run Decision Tree, then use the majority vote classification for all predictions to make a final prediction.\n",
    "\n",
    "### The result of 10 bootstrap iterations shows an improved accuracy from ~0.75(single decision tree) to 0.83"
   ]
  },
  {
   "cell_type": "code",
   "execution_count": 43,
   "metadata": {},
   "outputs": [
    {
     "name": "stdout",
     "output_type": "stream",
     "text": [
      "0.750992063492\n",
      "0.766534391534\n",
      "0.75958994709\n",
      "0.759259259259\n",
      "0.763558201058\n",
      "0.76421957672\n",
      "0.761904761905\n",
      "0.755291005291\n",
      "0.750661375661\n",
      "0.75496031746\n",
      "(3024, 10)\n",
      "accuracy of tree bagging with 10 bootstrap iterations 0.83630952381\n"
     ]
    }
   ],
   "source": [
    "np.random.seed(500)\n",
    "\n",
    "def sample_index(n):\n",
    "    bootstrap_sample_index = np.random.choice(range(n), size=n, replace=True)\n",
    "    return bootstrap_sample_index\n",
    "\n",
    "# Tree bagging with 10 bootstrap iterations\n",
    "fc_tree_preds = np.empty((0,dev_df[target].shape[0]))\n",
    "B = 10\n",
    "for i in range(B):\n",
    "    bootstrap_sample_index = sample_index(train_df[predictors].shape[0])\n",
    "    fc_data = train_df[predictors].iloc[bootstrap_sample_index]\n",
    "    fc_labels = train_df[target].iloc[bootstrap_sample_index]\n",
    "    fc_tree = DecisionTreeClassifier(criterion=\"entropy\", splitter=\"best\")\n",
    "    fc_tree.fit(fc_data, fc_labels)\n",
    "    print(fc_tree.score(dev_df[predictors], dev_df[target]))\n",
    "    fc_tree_preds = np.vstack((fc_tree_preds, fc_tree.predict(dev_df[predictors])))\n",
    "\n",
    "# Use the majority vote classification for the predictions above\n",
    "fc_tree_preds_transpose = fc_tree_preds.transpose().astype('int')\n",
    "print(fc_tree_preds_transpose.shape)\n",
    "# Find the label with the max count out of B times for each data\n",
    "c = np.zeros(fc_tree_preds_transpose.shape[0])\n",
    "for i in range(dev_df[target].shape[0]):\n",
    "    c[i] = np.bincount(fc_tree_preds_transpose[i]).argmax()\n",
    "# The accuracy of tree bagging method\n",
    "print('accuracy of tree bagging with 10 bootstrap iterations', np.mean(c==dev_df[target]))"
   ]
  },
  {
   "cell_type": "markdown",
   "metadata": {},
   "source": [
    "## Sklearn Random Forest"
   ]
  },
  {
   "cell_type": "code",
   "execution_count": 13,
   "metadata": {},
   "outputs": [
    {
     "name": "stdout",
     "output_type": "stream",
     "text": [
      "Mean R^2 = 0.858\n"
     ]
    }
   ],
   "source": [
    "# Next, evaluate a Random Forest with 500 trees. This represents and improvement\n",
    "\n",
    "rf = RandomForestClassifier(n_estimators=500, oob_score=True, criterion=\"entropy\")\n",
    "scores = cross_val_score(rf, train_df[predictors], train_df[target], cv=10)\n",
    "print (\"Mean R^2 = {:.3}\".format(scores.mean()))"
   ]
  },
  {
   "cell_type": "code",
   "execution_count": 14,
   "metadata": {},
   "outputs": [
    {
     "name": "stdout",
     "output_type": "stream",
     "text": [
      "0.864748677249\n",
      "             precision    recall  f1-score   support\n",
      "\n",
      "          1       0.82      0.76      0.79       408\n",
      "          2       0.81      0.72      0.76       440\n",
      "          3       0.85      0.79      0.82       443\n",
      "          4       0.92      0.98      0.95       447\n",
      "          5       0.88      0.94      0.91       419\n",
      "          6       0.82      0.87      0.85       407\n",
      "          7       0.94      0.98      0.96       460\n",
      "\n",
      "avg / total       0.86      0.86      0.86      3024\n",
      "\n"
     ]
    }
   ],
   "source": [
    "# Evaluate accuracy on dev data\n",
    "\n",
    "rf.fit(train_df[predictors], train_df[target])\n",
    "print(rf.score(dev_df[predictors], dev_df[target]))\n",
    "dev_pred = rf.predict(dev_df[predictors])\n",
    "print(classification_report(dev_df[target],dev_pred))"
   ]
  },
  {
   "cell_type": "code",
   "execution_count": 15,
   "metadata": {},
   "outputs": [
    {
     "name": "stdout",
     "output_type": "stream",
     "text": [
      "Wallclock time in secs for Random Forest Grid Search: 8208.442597150803\n",
      "Best params from grid search are: {'bootstrap': False, 'max_features': 4, 'min_samples_leaf': 1, 'n_estimators': 500}\n"
     ]
    }
   ],
   "source": [
    "# Optimize parameters using GridSearch\n",
    "\n",
    "param_grid = [\n",
    "    {'n_estimators': [100, 250, 500, 750], 'max_features': [2, 4, 6, 8, 'auto'], 'oob_score':[True,False]},\n",
    "    {'bootstrap': [False], 'n_estimators': [250, 500], 'max_features': [2, 4, 6, 8, 'auto'], 'min_samples_leaf': [1,5,10,50,100,200,500]},\n",
    "  ]\n",
    "rf = RandomForestClassifier()\n",
    "\n",
    "start_time = time.time()\n",
    "grid_search = GridSearchCV(rf, param_grid, cv=5)\n",
    "grid_search.fit(train_df[predictors], train_df[target])\n",
    "end_time = time.time()\n",
    "print(\"Wallclock time in secs for Random Forest Grid Search:\",end_time - start_time)\n",
    "print(\"Best params from grid search are:\",grid_search.best_params_)"
   ]
  },
  {
   "cell_type": "code",
   "execution_count": 16,
   "metadata": {},
   "outputs": [
    {
     "name": "stdout",
     "output_type": "stream",
     "text": [
      "0.873015873016\n",
      "             precision    recall  f1-score   support\n",
      "\n",
      "          1       0.82      0.77      0.79       408\n",
      "          2       0.80      0.74      0.77       440\n",
      "          3       0.85      0.82      0.83       443\n",
      "          4       0.94      0.98      0.96       447\n",
      "          5       0.91      0.94      0.92       419\n",
      "          6       0.84      0.88      0.86       407\n",
      "          7       0.95      0.98      0.96       460\n",
      "\n",
      "avg / total       0.87      0.87      0.87      3024\n",
      "\n"
     ]
    },
    {
     "data": {
      "text/plain": [
       "['rf.pkl']"
      ]
     },
     "execution_count": 16,
     "metadata": {},
     "output_type": "execute_result"
    }
   ],
   "source": [
    "# Rerun random forest with best parameters obtained by Gridsearch\n",
    "\n",
    "rf = RandomForestClassifier(bootstrap=False, max_features=4, n_estimators=250)\n",
    "rf.fit(train_df[predictors],train_df[target])\n",
    "print(rf.score(dev_df[predictors], dev_df[target]))\n",
    "dev_pred = rf.predict(dev_df[predictors])\n",
    "print(classification_report(dev_df[target],dev_pred))\n",
    "joblib.dump(rf, \"rf.pkl\")"
   ]
  },
  {
   "cell_type": "code",
   "execution_count": 17,
   "metadata": {},
   "outputs": [
    {
     "name": "stdout",
     "output_type": "stream",
     "text": [
      "Wallclock time in secs for Random Forest Grid Search: 518.9294080734253\n",
      "Randomized grid search best params are: {'n_estimators': 250, 'max_features': 4}\n"
     ]
    }
   ],
   "source": [
    "# Optimize random forest with random gridsearch\n",
    "\n",
    "param_grid = {'n_estimators': [100,250,500,750],'max_features': [2, 4, 6, 8, 'log2'] }\n",
    "rf = RandomForestClassifier(oob_score=True)\n",
    "\n",
    "start_time = time.time()\n",
    "random_search = RandomizedSearchCV(rf,param_distributions=param_grid, n_iter=20)\n",
    "random_search.fit(train_df[predictors],train_df[target])\n",
    "end_time = time.time()\n",
    "print(\"Wallclock time in secs for Random Forest Grid Search:\",end_time - start_time)\n",
    "print(\"Randomized grid search best params are:\",random_search.best_params_)"
   ]
  },
  {
   "cell_type": "code",
   "execution_count": 18,
   "metadata": {},
   "outputs": [
    {
     "name": "stdout",
     "output_type": "stream",
     "text": [
      "0.861441798942\n",
      "             precision    recall  f1-score   support\n",
      "\n",
      "          1       0.81      0.75      0.78       408\n",
      "          2       0.79      0.71      0.75       440\n",
      "          3       0.84      0.81      0.82       443\n",
      "          4       0.92      0.97      0.95       447\n",
      "          5       0.88      0.94      0.91       419\n",
      "          6       0.83      0.87      0.85       407\n",
      "          7       0.94      0.97      0.95       460\n",
      "\n",
      "avg / total       0.86      0.86      0.86      3024\n",
      "\n"
     ]
    },
    {
     "data": {
      "text/plain": [
       "['random_rf.pkl']"
      ]
     },
     "execution_count": 18,
     "metadata": {},
     "output_type": "execute_result"
    }
   ],
   "source": [
    "# Rerun random forest with best parameters obtained by random gridsearch\n",
    "\n",
    "random_rf = RandomForestClassifier(n_estimators=250, max_features=4)\n",
    "random_rf.fit(train_df[predictors],train_df[target])\n",
    "print(random_rf.score(dev_df[predictors], dev_df[target]))\n",
    "dev_pred = random_rf.predict(dev_df[predictors])\n",
    "print(classification_report(dev_df[target],dev_pred))\n",
    "joblib.dump(random_rf, \"random_rf.pkl\")"
   ]
  },
  {
   "cell_type": "markdown",
   "metadata": {},
   "source": [
    "# Voting Classifier"
   ]
  },
  {
   "cell_type": "code",
   "execution_count": 42,
   "metadata": {},
   "outputs": [
    {
     "name": "stderr",
     "output_type": "stream",
     "text": [
      "/Users/heatherfeinstein/anaconda/lib/python3.6/site-packages/sklearn/ensemble/forest.py:439: UserWarning: Some inputs do not have OOB scores. This probably means too few trees were used to compute any reliable oob estimates.\n",
      "  warn(\"Some inputs do not have OOB scores. \"\n",
      "/Users/heatherfeinstein/anaconda/lib/python3.6/site-packages/sklearn/ensemble/forest.py:444: RuntimeWarning: invalid value encountered in true_divide\n",
      "  predictions[k].sum(axis=1)[:, np.newaxis])\n"
     ]
    },
    {
     "name": "stdout",
     "output_type": "stream",
     "text": [
      "             precision    recall  f1-score   support\n",
      "\n",
      "          1       0.76      0.80      0.78       408\n",
      "          2       0.80      0.65      0.72       440\n",
      "          3       0.81      0.82      0.81       443\n",
      "          4       0.90      0.97      0.94       447\n",
      "          5       0.88      0.92      0.90       419\n",
      "          6       0.83      0.81      0.82       407\n",
      "          7       0.94      0.97      0.95       460\n",
      "\n",
      "avg / total       0.85      0.85      0.85      3024\n",
      "\n"
     ]
    }
   ],
   "source": [
    "# Run Voting Classifier\n",
    "\n",
    "voter = VotingClassifier(\n",
    "    estimators=[('rf', rf),('lr', softmax_reg),('rrf', random_rf), ('knn', knn)],\n",
    "    voting='hard')\n",
    "voter.fit(train_df[predictors], train_df[target])\n",
    "dev_pred = voter.predict(dev_df[predictors])\n",
    "print(classification_report(dev_df[target],dev_pred))"
   ]
  },
  {
   "cell_type": "code",
   "execution_count": null,
   "metadata": {
    "collapsed": true
   },
   "outputs": [],
   "source": [
    "# Generalized voter (takes hours to run. will experiment next week)\n",
    "\n",
    "n_estimators_start = 100\n",
    "n_estimators_end = 2501 # May take a while. \n",
    "n_estimators = [i for i in range(n_estimators_start,n_estimators_end)]\n",
    "voter_models = [(str(k),RandomForestClassifier(n_estimators = k, max_features='auto', oob_score=True)) for k in n_estimators]\n",
    "voter_models.append(('rrf', random_rf)) # append any tuples here. \n",
    "voter = VotingClassifier(\n",
    "    estimators= voter_models,\n",
    "    voting='soft')\n",
    "start_time = time.time()\n",
    "voter.fit(train_df[predictors], train_df[target])\n",
    "dev_pred = voter.predict(dev_df[predictors])\n",
    "end_time = time.time()\n",
    "print(classification_report(dev_df[target],dev_pred))\n",
    "print(voter.score(dev_df[predictors], dev_df[target]))\n",
    "print(\"Wallclock time in secs for Voter:\",end_time - start_time)\n",
    "#print(\"Voter params: \", voter.get_params(deep=False)) # unfortunately, unable to extract winning candidate. "
   ]
  },
  {
   "cell_type": "markdown",
   "metadata": {},
   "source": [
    "# PCA"
   ]
  },
  {
   "cell_type": "code",
   "execution_count": 32,
   "metadata": {},
   "outputs": [
    {
     "name": "stdout",
     "output_type": "stream",
     "text": [
      "Variance explained by first 1 principal components: 0.435\n",
      "Variance explained by first 2 principal components: 0.655\n",
      "Variance explained by first 3 principal components: 0.751\n",
      "Variance explained by first 4 principal components: 0.825\n",
      "Variance explained by first 5 principal components: 0.874\n",
      "Variance explained by first 6 principal components: 0.914\n",
      "Variance explained by first 7 principal components: 0.945\n",
      "Variance explained by first 8 principal components: 0.969\n",
      "Variance explained by first 9 principal components: 0.984\n",
      "Variance explained by first 10 principal components: 0.995\n",
      "Variance explained by first 11 principal components: 1.0\n",
      "Variance explained by first 12 principal components: 1.0\n"
     ]
    },
    {
     "data": {
      "text/plain": [
       "[<matplotlib.lines.Line2D at 0x10ed51748>]"
      ]
     },
     "execution_count": 32,
     "metadata": {},
     "output_type": "execute_result"
    },
    {
     "data": {
      "image/png": "[encoded data removed]",
      "text/plain": [
       "<matplotlib.figure.Figure at 0x110c07160>"
      ]
     },
     "metadata": {},
     "output_type": "display_data"
    }
   ],
   "source": [
    "#PCA - find explained variance from each PC to determine an appropriate # of dimensions\n",
    "\n",
    "from sklearn.decomposition import PCA\n",
    "\n",
    "pca_mod = PCA(n_components=train_df.shape[1]-2)\n",
    "pca_mod.fit(train_df[predictors])\n",
    "explained_var = 0\n",
    "exp_vars = [explained_var]\n",
    "\n",
    "for k in range(0,train_df.shape[1]-2):\n",
    "    explained_var += pca_mod.explained_variance_ratio_[k]\n",
    "    exp_vars.append(explained_var)\n",
    "    print(\"Variance explained by first\", k+1, \"principal components:\", round(explained_var,3))\n",
    "    \n",
    "plt.plot(exp_vars)"
   ]
  },
  {
   "cell_type": "code",
   "execution_count": 33,
   "metadata": {},
   "outputs": [],
   "source": [
    "#Project data into n dimensions\n",
    "\n",
    "n = 11\n",
    "pca_mod = PCA(n_components = n)\n",
    "projected_train = pca_mod.fit_transform(train_df[predictors])\n",
    "projected_dev = pca_mod.transform(dev_df[predictors])"
   ]
  },
  {
   "cell_type": "markdown",
   "metadata": {},
   "source": [
    "# Rerun Models with PCA"
   ]
  },
  {
   "cell_type": "markdown",
   "metadata": {},
   "source": [
    "## KNN with PCA"
   ]
  },
  {
   "cell_type": "code",
   "execution_count": 34,
   "metadata": {},
   "outputs": [
    {
     "name": "stdout",
     "output_type": "stream",
     "text": [
      "             precision    recall  f1-score   support\n",
      "\n",
      "          1       0.77      0.71      0.74       408\n",
      "          2       0.71      0.65      0.68       440\n",
      "          3       0.81      0.69      0.74       443\n",
      "          4       0.88      0.94      0.91       447\n",
      "          5       0.85      0.91      0.88       419\n",
      "          6       0.73      0.81      0.77       407\n",
      "          7       0.93      0.97      0.95       460\n",
      "\n",
      "avg / total       0.81      0.81      0.81      3024\n",
      "\n"
     ]
    }
   ],
   "source": [
    "knn = KNeighborsClassifier(n_neighbors=1, algorithm='ball_tree', leaf_size=30)\n",
    "knn.fit(projected_train, train_df[target])\n",
    "dev_pred = knn.predict(projected_dev)\n",
    "print(classification_report(dev_df[target],dev_pred))"
   ]
  },
  {
   "cell_type": "markdown",
   "metadata": {},
   "source": [
    "## Weaker Models with PCA - no meaningful improvement"
   ]
  },
  {
   "cell_type": "code",
   "execution_count": 35,
   "metadata": {},
   "outputs": [
    {
     "name": "stdout",
     "output_type": "stream",
     "text": [
      "             precision    recall  f1-score   support\n",
      "\n",
      "          1       0.59      0.45      0.51       408\n",
      "          2       0.53      0.43      0.47       440\n",
      "          3       0.54      0.46      0.50       443\n",
      "          4       0.74      0.91      0.81       447\n",
      "          5       0.55      0.52      0.54       419\n",
      "          6       0.49      0.60      0.54       407\n",
      "          7       0.78      0.91      0.84       460\n",
      "\n",
      "avg / total       0.61      0.62      0.61      3024\n",
      "\n"
     ]
    }
   ],
   "source": [
    "# linear support vector classification w PCA\n",
    "\n",
    "lsvc = LinearSVC(C=1)\n",
    "lsvc.fit(projected_train,train_df[target])\n",
    "dev_pred = lsvc.predict(projected_dev)\n",
    "print(classification_report(dev_df[target],dev_pred))"
   ]
  },
  {
   "cell_type": "markdown",
   "metadata": {},
   "source": [
    "## Random Forest with PCA"
   ]
  },
  {
   "cell_type": "code",
   "execution_count": 36,
   "metadata": {},
   "outputs": [
    {
     "name": "stdout",
     "output_type": "stream",
     "text": [
      "Wallclock time in secs for Random Forest Grid Search: 9633.682844161987\n",
      "Best params from grid search are: {'bootstrap': False, 'max_features': 4, 'n_estimators': 500}\n"
     ]
    }
   ],
   "source": [
    "# Optimize parameters for Random Forest with PCA with Gridsearch\n",
    "\n",
    "param_grid = [\n",
    "    {'n_estimators': [100, 250, 500, 750], 'max_features': [2, 4, 6, 8, 'auto'], 'oob_score':[True,False]},\n",
    "    {'bootstrap': [False], 'n_estimators': [250, 500], 'max_features': [2, 4, 6, 8, 'auto']},\n",
    "  ]\n",
    "rf = RandomForestClassifier()\n",
    "\n",
    "start_time = time.time()\n",
    "grid_search = GridSearchCV(rf, param_grid, cv=5)\n",
    "grid_search.fit(projected_train, train_df[target])\n",
    "end_time = time.time()\n",
    "print(\"Wallclock time in secs for Random Forest Grid Search:\",end_time - start_time)\n",
    "print(\"Best params from grid search are:\",grid_search.best_params_)"
   ]
  },
  {
   "cell_type": "code",
   "execution_count": 37,
   "metadata": {},
   "outputs": [
    {
     "name": "stdout",
     "output_type": "stream",
     "text": [
      "0.838955026455\n",
      "             precision    recall  f1-score   support\n",
      "\n",
      "          1       0.78      0.75      0.77       408\n",
      "          2       0.77      0.70      0.73       440\n",
      "          3       0.83      0.77      0.80       443\n",
      "          4       0.88      0.97      0.92       447\n",
      "          5       0.87      0.91      0.89       419\n",
      "          6       0.78      0.81      0.79       407\n",
      "          7       0.94      0.96      0.95       460\n",
      "\n",
      "avg / total       0.84      0.84      0.84      3024\n",
      "\n"
     ]
    }
   ],
   "source": [
    "# Run Random Forest with PCA with parameters obtained through gridsearch\n",
    "\n",
    "rf = RandomForestClassifier(bootstrap=False, max_features='auto', n_estimators=500)\n",
    "rf.fit(projected_train,train_df[target])\n",
    "print(rf.score(projected_dev, dev_df[target]))\n",
    "dev_pred = rf.predict(projected_dev)\n",
    "print(classification_report(dev_df[target],dev_pred))\n"
   ]
  },
  {
   "cell_type": "code",
   "execution_count": 38,
   "metadata": {},
   "outputs": [
    {
     "name": "stdout",
     "output_type": "stream",
     "text": [
      "Wallclock time in secs for Random Forest Grid Search: 783.7757749557495\n",
      "Randomized grid search best params are: {'n_estimators': 750, 'max_features': 2}\n"
     ]
    }
   ],
   "source": [
    "# Optimize Random Forest with PCA through random Grid Search\n",
    "\n",
    "param_grid = {'n_estimators': [100,250,500,750],'max_features': [2, 4, 6, 8, 'log2'] }\n",
    "rf = RandomForestClassifier(oob_score=True)\n",
    "\n",
    "start_time = time.time()\n",
    "random_search = RandomizedSearchCV(rf,param_distributions=param_grid, n_iter=20)\n",
    "random_search.fit(projected_train,train_df[target])\n",
    "end_time = time.time()\n",
    "print(\"Wallclock time in secs for Random Forest Grid Search:\",end_time - start_time)\n",
    "print(\"Randomized grid search best params are:\",random_search.best_params_)"
   ]
  },
  {
   "cell_type": "code",
   "execution_count": 39,
   "metadata": {},
   "outputs": [
    {
     "name": "stdout",
     "output_type": "stream",
     "text": [
      "0.827380952381\n",
      "             precision    recall  f1-score   support\n",
      "\n",
      "          1       0.78      0.74      0.76       408\n",
      "          2       0.75      0.68      0.71       440\n",
      "          3       0.82      0.74      0.78       443\n",
      "          4       0.87      0.97      0.92       447\n",
      "          5       0.85      0.89      0.87       419\n",
      "          6       0.76      0.80      0.78       407\n",
      "          7       0.93      0.96      0.95       460\n",
      "\n",
      "avg / total       0.83      0.83      0.83      3024\n",
      "\n"
     ]
    }
   ],
   "source": [
    "# Run random forest with PCA with parameters obtained through random gridsearch\n",
    "\n",
    "random_rf = RandomForestClassifier(n_estimators=750, max_features='log2')\n",
    "random_rf.fit(projected_train,train_df[target])\n",
    "print(random_rf.score(projected_dev, dev_df[target]))\n",
    "dev_pred = random_rf.predict(projected_dev)\n",
    "print(classification_report(dev_df[target],dev_pred))"
   ]
  },
  {
   "cell_type": "markdown",
   "metadata": {},
   "source": [
    "## Voting Classifier with PCA"
   ]
  },
  {
   "cell_type": "code",
   "execution_count": 40,
   "metadata": {},
   "outputs": [
    {
     "name": "stderr",
     "output_type": "stream",
     "text": [
      "/Users/heatherfeinstein/anaconda/lib/python3.6/site-packages/sklearn/ensemble/forest.py:439: UserWarning: Some inputs do not have OOB scores. This probably means too few trees were used to compute any reliable oob estimates.\n",
      "  warn(\"Some inputs do not have OOB scores. \"\n",
      "/Users/heatherfeinstein/anaconda/lib/python3.6/site-packages/sklearn/ensemble/forest.py:444: RuntimeWarning: invalid value encountered in true_divide\n",
      "  predictions[k].sum(axis=1)[:, np.newaxis])\n"
     ]
    },
    {
     "name": "stdout",
     "output_type": "stream",
     "text": [
      "             precision    recall  f1-score   support\n",
      "\n",
      "          1       0.73      0.78      0.76       408\n",
      "          2       0.76      0.62      0.68       440\n",
      "          3       0.79      0.76      0.77       443\n",
      "          4       0.87      0.98      0.92       447\n",
      "          5       0.85      0.89      0.87       419\n",
      "          6       0.78      0.75      0.76       407\n",
      "          7       0.94      0.94      0.94       460\n",
      "\n",
      "avg / total       0.82      0.82      0.82      3024\n",
      "\n"
     ]
    }
   ],
   "source": [
    "# Run voting classifer with PCA\n",
    "\n",
    "voter = VotingClassifier(\n",
    "    estimators=[('rf', rf),('lr', softmax_reg),('rrf', random_rf), ('knn', knn)],\n",
    "    voting='hard')\n",
    "voter.fit(projected_train, train_df[target])\n",
    "dev_pred = voter.predict(projected_dev)\n",
    "print(classification_report(dev_df[target],dev_pred))"
   ]
  },
  {
   "cell_type": "code",
   "execution_count": null,
   "metadata": {},
   "outputs": [],
   "source": []
  }
 ],
 "metadata": {
  "anaconda-cloud": {},
  "kernelspec": {
   "display_name": "Python 3",
   "language": "python",
   "name": "python3"
  },
  "language_info": {
   "codemirror_mode": {
    "name": "ipython",
    "version": 3
   },
   "file_extension": ".py",
   "mimetype": "text/x-python",
   "name": "python",
   "nbconvert_exporter": "python",
   "pygments_lexer": "ipython3",
   "version": "3.6.1"
  }
 },
 "nbformat": 4,
 "nbformat_minor": 2
}
