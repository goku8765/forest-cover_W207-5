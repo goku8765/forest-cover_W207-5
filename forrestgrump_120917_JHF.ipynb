{
 "cells": [
  {
   "cell_type": "code",
   "execution_count": 1,
   "metadata": {
    "collapsed": false
   },
   "outputs": [
    {
     "ename": "ImportError",
     "evalue": "No module named 'seaborn'",
     "output_type": "error",
     "traceback": [
      "\u001b[1;31m---------------------------------------------------------------------------\u001b[0m",
      "\u001b[1;31mImportError\u001b[0m                               Traceback (most recent call last)",
      "\u001b[1;32m<ipython-input-1-4b845c05fae7>\u001b[0m in \u001b[0;36m<module>\u001b[1;34m()\u001b[0m\n\u001b[0;32m     29\u001b[0m \u001b[1;32mfrom\u001b[0m \u001b[0msklearn\u001b[0m\u001b[1;33m.\u001b[0m\u001b[0mexternals\u001b[0m\u001b[1;33m.\u001b[0m\u001b[0msix\u001b[0m \u001b[1;32mimport\u001b[0m \u001b[0mStringIO\u001b[0m\u001b[1;33m\u001b[0m\u001b[0m\n\u001b[0;32m     30\u001b[0m \u001b[1;33m\u001b[0m\u001b[0m\n\u001b[1;32m---> 31\u001b[1;33m \u001b[1;32mimport\u001b[0m \u001b[0mseaborn\u001b[0m \u001b[1;32mas\u001b[0m \u001b[0msns\u001b[0m\u001b[1;33m\u001b[0m\u001b[0m\n\u001b[0m\u001b[0;32m     32\u001b[0m \u001b[0msns\u001b[0m\u001b[1;33m.\u001b[0m\u001b[0mset\u001b[0m\u001b[1;33m(\u001b[0m\u001b[0mstyle\u001b[0m\u001b[1;33m=\u001b[0m\u001b[1;34m\"ticks\"\u001b[0m\u001b[1;33m)\u001b[0m\u001b[1;33m\u001b[0m\u001b[0m\n\u001b[0;32m     33\u001b[0m \u001b[1;33m\u001b[0m\u001b[0m\n",
      "\u001b[1;31mImportError\u001b[0m: No module named 'seaborn'"
     ]
    }
   ],
   "source": [
    "%matplotlib inline\n",
    "\n",
    "import matplotlib.pyplot as plt\n",
    "import numpy as np\n",
    "import pandas as pd\n",
    "from sklearn.model_selection import train_test_split\n",
    "from sklearn.tree import DecisionTreeClassifier\n",
    "from sklearn.model_selection import GridSearchCV\n",
    "from sklearn.model_selection import RandomizedSearchCV\n",
    "from sklearn.model_selection import cross_val_score\n",
    "from sklearn.model_selection import KFold\n",
    "from sklearn.ensemble import RandomForestClassifier\n",
    "from sklearn.ensemble import GradientBoostingClassifier\n",
    "from sklearn.ensemble import VotingClassifier\n",
    "from sklearn.metrics import r2_score\n",
    "from sklearn.metrics import mean_squared_error\n",
    "from sklearn.metrics import classification_report\n",
    "from sklearn.metrics import confusion_matrix\n",
    "from sklearn.preprocessing import StandardScaler\n",
    "from sklearn.svm import LinearSVC\n",
    "import pdb\n",
    "from sklearn.linear_model import LogisticRegression\n",
    "import time\n",
    "\n",
    "\n",
    "\n",
    "# For producing decision tree diagrams.\n",
    "from IPython.core.display import Image, display\n",
    "from sklearn.externals.six import StringIO\n",
    "\n",
    "import seaborn as sns\n",
    "sns.set(style=\"ticks\")\n",
    "\n",
    "from sklearn.externals import joblib\n",
    "\n",
    "\n"
   ]
  },
  {
   "cell_type": "code",
   "execution_count": 2,
   "metadata": {
    "collapsed": false,
    "scrolled": true
   },
   "outputs": [
    {
     "name": "stdout",
     "output_type": "stream",
     "text": [
      "Raw training set shape: (15120, 56)\n",
      "['Elevation', 'Aspect', 'Slope', 'Horizontal_Distance_To_Hydrology', 'Vertical_Distance_To_Hydrology', 'Horizontal_Distance_To_Roadways', 'Hillshade_9am', 'Hillshade_Noon', 'Hillshade_3pm', 'Horizontal_Distance_To_Fire_Points', 'Wilderness_Area1', 'Wilderness_Area2', 'Wilderness_Area3', 'Wilderness_Area4', 'Soil_Type1', 'Soil_Type2', 'Soil_Type3', 'Soil_Type4', 'Soil_Type5', 'Soil_Type6', 'Soil_Type7', 'Soil_Type8', 'Soil_Type9', 'Soil_Type10', 'Soil_Type11', 'Soil_Type12', 'Soil_Type13', 'Soil_Type14', 'Soil_Type15', 'Soil_Type16', 'Soil_Type17', 'Soil_Type18', 'Soil_Type19', 'Soil_Type20', 'Soil_Type21', 'Soil_Type22', 'Soil_Type23', 'Soil_Type24', 'Soil_Type25', 'Soil_Type26', 'Soil_Type27', 'Soil_Type28', 'Soil_Type29', 'Soil_Type30', 'Soil_Type31', 'Soil_Type32', 'Soil_Type33', 'Soil_Type34', 'Soil_Type35', 'Soil_Type36', 'Soil_Type37', 'Soil_Type38', 'Soil_Type39', 'Soil_Type40']\n"
     ]
    }
   ],
   "source": [
    "train_df = pd.read_csv('train.csv')\n",
    "\n",
    "#\n",
    "\n",
    "# check for missing values in frame. \n",
    "train_df.isnull().values.any()\n",
    "print(\"Raw training set shape:\",train_df.shape)\n",
    "\n",
    "predictors = list(train_df) # includes ID and target/class columns\n",
    "train_id = predictors.pop(0) # pop out ID column\n",
    "target = list.pop(predictors) # pop out target column\n",
    "print(predictors)\n",
    "\n",
    "### make a function out of this. We intend to verify that the binary features are mutually exclusive. \n",
    "soils_only_df = train_df[train_df.columns[15:-1]] # extract columns of soil types. leave out the class column.\n",
    "sums = soils_only_df.sum(axis=1) # total each row. \n",
    "for i in range(sums.shape[0]):\n",
    "    if sums.iloc[i] != 1:\n",
    "        print(\"Not mutually exclusive or no soil type in this sample:\", i)\n",
    "wilderness_only_df = train_df[train_df.columns[11:15]] # extract columns of wilderness types\n",
    "sums = wilderness_only_df.sum(axis=1) # total each row. \n",
    "for i in range(sums.shape[0]):\n",
    "    if sums.iloc[i] != 1:\n",
    "        print(\"Not mutually exclusive or no wilderness type in this sample:\", i)\n",
    "###\n",
    "\n",
    "# Now, combine all soil columns into a single soil multifactor column. Ditto for Wilderness_Area* \n",
    "# Caveat: The train data's ID starts from 1, while panda's index starts from 0. \n",
    "# Don't forget to tag on the class column. \n",
    "\n",
    "### make a function out of this as well. will need it to transform actual test data. \n",
    "train_mod_df = train_df.iloc[:,:11].copy() # grab all rows from 0 thru 10. \n",
    "train_mod_df['WILDERNESS']=0 # Replaces Wilderness_Area* features. \n",
    "train_mod_df['SOILS']=0 # Replaces Soil_Type* features. \n",
    "\n",
    "for index, row in train_df.iterrows():\n",
    "    for j in range(15,row.shape[0]-1): # make sure  you don't grab the class column\n",
    "        if row.iloc[j] == 1.0:\n",
    "            train_mod_df.loc[index,'SOILS'] = j-14 # values start from 1\n",
    "\n",
    "for index, row in train_df.iterrows():\n",
    "    for j in range(11,15): # make sure  you don't grab the class column\n",
    "        if row.iloc[j] == 1.0:\n",
    "            train_mod_df.loc[index,'WILDERNESS'] = j-10 # values start from 1\n",
    "\n",
    "train_mod_df[target] = train_df[target] # Add back the Class column\n",
    "###"
   ]
  },
  {
   "cell_type": "code",
   "execution_count": 3,
   "metadata": {
    "collapsed": false
   },
   "outputs": [
    {
     "data": {
      "text/plain": [
       "(15120, 14)"
      ]
     },
     "execution_count": 3,
     "metadata": {},
     "output_type": "execute_result"
    }
   ],
   "source": [
    "# So we don't have to change the frame's name in the cells below ...\n",
    "train_df = train_mod_df\n",
    "train_df.shape"
   ]
  },
  {
   "cell_type": "code",
   "execution_count": 4,
   "metadata": {
    "collapsed": false
   },
   "outputs": [
    {
     "name": "stdout",
     "output_type": "stream",
     "text": [
      "['Elevation', 'Aspect', 'Slope', 'Horizontal_Distance_To_Hydrology', 'Vertical_Distance_To_Hydrology', 'Horizontal_Distance_To_Roadways', 'Hillshade_9am', 'Hillshade_Noon', 'Hillshade_3pm', 'Horizontal_Distance_To_Fire_Points', 'WILDERNESS', 'SOILS']\n"
     ]
    },
    {
     "name": "stderr",
     "output_type": "stream",
     "text": [
      "C:\\Users\\Jessica\\Anaconda3\\lib\\site-packages\\pandas\\core\\frame.py:2378: SettingWithCopyWarning: \n",
      "A value is trying to be set on a copy of a slice from a DataFrame.\n",
      "Try using .loc[row_indexer,col_indexer] = value instead\n",
      "\n",
      "See the caveats in the documentation: http://pandas.pydata.org/pandas-docs/stable/indexing.html#indexing-view-versus-copy\n",
      "  self[k1] = value[k2]\n"
     ]
    },
    {
     "name": "stdout",
     "output_type": "stream",
     "text": [
      "After split, Train and Dev dataset shapes are: (12096, 14) (3024, 14)\n"
     ]
    },
    {
     "data": {
      "image/png": "[encoded data removed]",
      "text/plain": [
       "<matplotlib.figure.Figure at 0x26317dbe3c8>"
      ]
     },
     "metadata": {},
     "output_type": "display_data"
    },
    {
     "data": {
      "image/png": "[encoded data removed]",
      "text/plain": [
       "<matplotlib.figure.Figure at 0x263184185c0>"
      ]
     },
     "metadata": {},
     "output_type": "display_data"
    },
    {
     "data": {
      "image/png": "[encoded data removed]",
      "text/plain": [
       "<matplotlib.figure.Figure at 0x26319461d68>"
      ]
     },
     "metadata": {},
     "output_type": "display_data"
    }
   ],
   "source": [
    "# Get predictors out again\n",
    "\n",
    "predictors = list(train_df) # includes ID and target/class columns\n",
    "train_id = predictors.pop(0) # pop out ID column\n",
    "target = list.pop(predictors) # pop out target column\n",
    "print(predictors)\n",
    "\n",
    "# two kinds of normalization - min-max or z-score. z-score may lead to negative values for otherwise non-negative quantities \n",
    "# (such as altitude) - which may be ok from a prediction standpoint \n",
    "\n",
    "# should we be splitting after normalization. Or before? Before makes sense cause dev data should be a surrogate for actual - \n",
    "# - kaggle test data we have not seen yet. \n",
    "plt.figure(figsize=(2, 2))\n",
    "ax = train_df['Cover_Type'].hist(bins=14) # Check to see if any stratification is required for train,dev split. \n",
    "ax.set_title('Cover_Type')\n",
    "train_df, dev_df = train_test_split(train_df,test_size=0.2)\n",
    "\n",
    "# display histograms for basic EDA. titles in Red. \n",
    "plt.figure(figsize=(35, 35))\n",
    "plt.subplots_adjust(hspace=1.0,wspace=0.5)\n",
    "for i in range(0,len(predictors)):\n",
    "    plt.subplot(20,10,i+1)\n",
    "    data = train_df[predictors[i]].T # transposing to view counts on y-axis\n",
    "    ax = data.hist()\n",
    "    ax.set_title(predictors[i],color='Red') \n",
    "\n",
    "# Need to store these values for normalizing new data presented to the eventual model for prediction. \n",
    "train_df_mean =  train_df.mean().astype(float)\n",
    "train_df_sd = train_df.std().astype(float)\n",
    "train_df_min = train_df.min().astype(float)\n",
    "train_df_max = train_df.max().astype(float)\n",
    "\n",
    "# going with min-max. tries z-scores before, but now doubt it will work well for SOIL and WILDERNESS\n",
    "train_df[predictors] = (train_df[predictors]-train_df_min[predictors])/(train_df_max[predictors]-train_df_min[predictors])\n",
    "dev_df[predictors] = (dev_df[predictors]-train_df_min[predictors])/(train_df_max[predictors]-train_df_min[predictors])\n",
    "\n",
    "print(\"After split, Train and Dev dataset shapes are:\",train_df.shape, dev_df.shape)\n",
    "\n",
    "# display histograms post normalization. Titles in Green.\n",
    "plt.figure(figsize=(35, 35))\n",
    "plt.subplots_adjust(hspace=1.0,wspace=0.5)\n",
    "for i in range(0,len(predictors)):\n",
    "    plt.subplot(20,10,i+1)\n",
    "    data = train_df[predictors[i]].T # transposing to view counts on y-axis\n",
    "    aax = data.hist()\n",
    "    aax.set_title(predictors[i],color='Green') \n",
    "    \n",
    "#spm = pd.plotting.scatter_matrix(train_df[predictors[0:10]], alpha=0.5, figsize=(15,15), diagonal='hist')\n",
    "#sns.pairplot(train_df[predictors[10:]])"
   ]
  },
  {
   "cell_type": "code",
   "execution_count": 10,
   "metadata": {
    "collapsed": false
   },
   "outputs": [
    {
     "name": "stdout",
     "output_type": "stream",
     "text": [
      "Mean R^2 = 0.856\n"
     ]
    }
   ],
   "source": [
    "# Next, evaluate a Random Forest with 500 trees. \n",
    "rf = RandomForestClassifier(n_estimators=500, oob_score=True, criterion=\"entropy\")\n",
    "scores = cross_val_score(rf, train_df[predictors], train_df[target], cv=10)\n",
    "print (\"Mean R^2 = {:.3}\".format(scores.mean()))"
   ]
  },
  {
   "cell_type": "code",
   "execution_count": 11,
   "metadata": {
    "collapsed": false
   },
   "outputs": [
    {
     "name": "stdout",
     "output_type": "stream",
     "text": [
      "0.862764550265\n",
      "             precision    recall  f1-score   support\n",
      "\n",
      "          1       0.77      0.77      0.77       408\n",
      "          2       0.80      0.69      0.74       426\n",
      "          3       0.86      0.80      0.83       425\n",
      "          4       0.93      0.96      0.95       443\n",
      "          5       0.90      0.96      0.93       427\n",
      "          6       0.82      0.87      0.84       432\n",
      "          7       0.94      0.97      0.95       463\n",
      "\n",
      "avg / total       0.86      0.86      0.86      3024\n",
      "\n"
     ]
    }
   ],
   "source": [
    "rf.fit(train_df[predictors], train_df[target])\n",
    "print(rf.score(dev_df[predictors], dev_df[target]))\n",
    "dev_pred = rf.predict(dev_df[predictors])\n",
    "print(classification_report(dev_df[target],dev_pred))"
   ]
  },
  {
   "cell_type": "code",
   "execution_count": 15,
   "metadata": {
    "collapsed": false
   },
   "outputs": [
    {
     "name": "stdout",
     "output_type": "stream",
     "text": [
      "Wallclock time in secs for Random Forest Grid Search: 2698.4889414310455\n",
      "Best params from grid search are: {'bootstrap': False, 'max_features': 4, 'n_estimators': 250}\n"
     ]
    }
   ],
   "source": [
    "param_grid = [\n",
    "    {'n_estimators': [100, 250, 500, 750], 'max_features': [2, 4, 6, 8, 'auto'], 'oob_score':[True,False]},\n",
    "    {'bootstrap': [False], 'n_estimators': [250, 500], 'max_features': [2, 4, 6, 8, 'auto']},\n",
    "  ]\n",
    "rf = RandomForestClassifier()\n",
    "\n",
    "start_time = time.time()\n",
    "grid_search = GridSearchCV(rf, param_grid, cv=5)\n",
    "grid_search.fit(train_df[predictors], train_df[target])\n",
    "end_time = time.time()\n",
    "print(\"Wallclock time in secs for Random Forest Grid Search:\",end_time - start_time)\n",
    "print(\"Best params from grid search are:\",grid_search.best_params_)"
   ]
  },
  {
   "cell_type": "code",
   "execution_count": 38,
   "metadata": {
    "collapsed": false
   },
   "outputs": [
    {
     "name": "stdout",
     "output_type": "stream",
     "text": [
      "0.866732804233\n",
      "             precision    recall  f1-score   support\n",
      "\n",
      "          1       0.77      0.72      0.74       434\n",
      "          2       0.76      0.71      0.73       450\n",
      "          3       0.87      0.86      0.87       438\n",
      "          4       0.95      0.97      0.96       440\n",
      "          5       0.91      0.97      0.94       442\n",
      "          6       0.86      0.89      0.87       407\n",
      "          7       0.94      0.97      0.95       413\n",
      "\n",
      "avg / total       0.86      0.87      0.86      3024\n",
      "\n"
     ]
    },
    {
     "ename": "NameError",
     "evalue": "name 'joblib' is not defined",
     "output_type": "error",
     "traceback": [
      "\u001b[1;31m---------------------------------------------------------------------------\u001b[0m",
      "\u001b[1;31mNameError\u001b[0m                                 Traceback (most recent call last)",
      "\u001b[1;32m<ipython-input-38-f5ffe8976f11>\u001b[0m in \u001b[0;36m<module>\u001b[1;34m()\u001b[0m\n\u001b[0;32m      5\u001b[0m \u001b[0mdev_pred\u001b[0m \u001b[1;33m=\u001b[0m \u001b[0mrf\u001b[0m\u001b[1;33m.\u001b[0m\u001b[0mpredict\u001b[0m\u001b[1;33m(\u001b[0m\u001b[0mdev_df\u001b[0m\u001b[1;33m[\u001b[0m\u001b[0mpredictors\u001b[0m\u001b[1;33m]\u001b[0m\u001b[1;33m)\u001b[0m\u001b[1;33m\u001b[0m\u001b[0m\n\u001b[0;32m      6\u001b[0m \u001b[0mprint\u001b[0m\u001b[1;33m(\u001b[0m\u001b[0mclassification_report\u001b[0m\u001b[1;33m(\u001b[0m\u001b[0mdev_df\u001b[0m\u001b[1;33m[\u001b[0m\u001b[0mtarget\u001b[0m\u001b[1;33m]\u001b[0m\u001b[1;33m,\u001b[0m\u001b[0mdev_pred\u001b[0m\u001b[1;33m)\u001b[0m\u001b[1;33m)\u001b[0m\u001b[1;33m\u001b[0m\u001b[0m\n\u001b[1;32m----> 7\u001b[1;33m \u001b[0mjoblib\u001b[0m\u001b[1;33m.\u001b[0m\u001b[0mdump\u001b[0m\u001b[1;33m(\u001b[0m\u001b[0mrf\u001b[0m\u001b[1;33m,\u001b[0m \u001b[1;34m\"rf.pkl\"\u001b[0m\u001b[1;33m)\u001b[0m\u001b[1;33m\u001b[0m\u001b[0m\n\u001b[0m",
      "\u001b[1;31mNameError\u001b[0m: name 'joblib' is not defined"
     ]
    }
   ],
   "source": [
    "# rf = RandomForestClassifier(**grid_search.best_params_)\n",
    "rf = RandomForestClassifier(bootstrap=False, max_features=4, n_estimators=250)\n",
    "rf.fit(train_df[predictors],train_df[target])\n",
    "print(rf.score(dev_df[predictors], dev_df[target]))\n",
    "dev_pred = rf.predict(dev_df[predictors])\n",
    "print(classification_report(dev_df[target],dev_pred))\n",
    "joblib.dump(rf, \"rf.pkl\")"
   ]
  },
  {
   "cell_type": "code",
   "execution_count": 8,
   "metadata": {
    "collapsed": false
   },
   "outputs": [
    {
     "name": "stdout",
     "output_type": "stream",
     "text": [
      "Wallclock time in secs for Random Forest Grid Search: 634.7191932201385\n",
      "Randomized grid search best params are: {'n_estimators': 250, 'max_features': 4}\n"
     ]
    }
   ],
   "source": [
    "param_grid = {'n_estimators': [100,250,500,750],'max_features': [2, 4, 6, 8, 'log2'] }\n",
    "rf = RandomForestClassifier(oob_score=True)\n",
    "\n",
    "\n",
    "start_time = time.time()\n",
    "random_search = RandomizedSearchCV(rf,param_distributions=param_grid, n_iter=20)\n",
    "random_search.fit(train_df[predictors],train_df[target])\n",
    "end_time = time.time()\n",
    "print(\"Wallclock time in secs for Random Forest Grid Search:\",end_time - start_time)\n",
    "print(\"Randomized grid search best params are:\",random_search.best_params_)"
   ]
  },
  {
   "cell_type": "code",
   "execution_count": 39,
   "metadata": {
    "collapsed": false
   },
   "outputs": [
    {
     "name": "stdout",
     "output_type": "stream",
     "text": [
      "0.86078042328\n",
      "             precision    recall  f1-score   support\n",
      "\n",
      "          1       0.76      0.71      0.74       434\n",
      "          2       0.77      0.71      0.74       450\n",
      "          3       0.87      0.82      0.85       438\n",
      "          4       0.94      0.97      0.95       440\n",
      "          5       0.90      0.97      0.93       442\n",
      "          6       0.83      0.89      0.86       407\n",
      "          7       0.94      0.96      0.95       413\n",
      "\n",
      "avg / total       0.86      0.86      0.86      3024\n",
      "\n"
     ]
    },
    {
     "ename": "NameError",
     "evalue": "name 'joblib' is not defined",
     "output_type": "error",
     "traceback": [
      "\u001b[1;31m---------------------------------------------------------------------------\u001b[0m",
      "\u001b[1;31mNameError\u001b[0m                                 Traceback (most recent call last)",
      "\u001b[1;32m<ipython-input-39-a54f5c61b9f2>\u001b[0m in \u001b[0;36m<module>\u001b[1;34m()\u001b[0m\n\u001b[0;32m      5\u001b[0m \u001b[0mdev_pred\u001b[0m \u001b[1;33m=\u001b[0m \u001b[0mrandom_rf\u001b[0m\u001b[1;33m.\u001b[0m\u001b[0mpredict\u001b[0m\u001b[1;33m(\u001b[0m\u001b[0mdev_df\u001b[0m\u001b[1;33m[\u001b[0m\u001b[0mpredictors\u001b[0m\u001b[1;33m]\u001b[0m\u001b[1;33m)\u001b[0m\u001b[1;33m\u001b[0m\u001b[0m\n\u001b[0;32m      6\u001b[0m \u001b[0mprint\u001b[0m\u001b[1;33m(\u001b[0m\u001b[0mclassification_report\u001b[0m\u001b[1;33m(\u001b[0m\u001b[0mdev_df\u001b[0m\u001b[1;33m[\u001b[0m\u001b[0mtarget\u001b[0m\u001b[1;33m]\u001b[0m\u001b[1;33m,\u001b[0m\u001b[0mdev_pred\u001b[0m\u001b[1;33m)\u001b[0m\u001b[1;33m)\u001b[0m\u001b[1;33m\u001b[0m\u001b[0m\n\u001b[1;32m----> 7\u001b[1;33m \u001b[0mjoblib\u001b[0m\u001b[1;33m.\u001b[0m\u001b[0mdump\u001b[0m\u001b[1;33m(\u001b[0m\u001b[0mrandom_rf\u001b[0m\u001b[1;33m,\u001b[0m \u001b[1;34m\"random_rf.pkl\"\u001b[0m\u001b[1;33m)\u001b[0m\u001b[1;33m\u001b[0m\u001b[0m\n\u001b[0m",
      "\u001b[1;31mNameError\u001b[0m: name 'joblib' is not defined"
     ]
    }
   ],
   "source": [
    "# random_rf = RandomForestClassifier(**random_search.best_params_)\n",
    "random_rf = RandomForestClassifier(n_estimators=250, max_features=4)\n",
    "random_rf.fit(train_df[predictors],train_df[target])\n",
    "print(random_rf.score(dev_df[predictors], dev_df[target]))\n",
    "dev_pred = random_rf.predict(dev_df[predictors])\n",
    "print(classification_report(dev_df[target],dev_pred))\n",
    "joblib.dump(random_rf, \"random_rf.pkl\")"
   ]
  },
  {
   "cell_type": "code",
   "execution_count": 40,
   "metadata": {
    "collapsed": false
   },
   "outputs": [
    {
     "name": "stdout",
     "output_type": "stream",
     "text": [
      "             precision    recall  f1-score   support\n",
      "\n",
      "          1       0.59      0.43      0.49       434\n",
      "          2       0.52      0.46      0.49       450\n",
      "          3       0.54      0.45      0.49       438\n",
      "          4       0.74      0.90      0.81       440\n",
      "          5       0.57      0.51      0.54       442\n",
      "          6       0.48      0.59      0.53       407\n",
      "          7       0.73      0.92      0.82       413\n",
      "\n",
      "avg / total       0.60      0.60      0.59      3024\n",
      "\n"
     ]
    }
   ],
   "source": [
    "lsvc = LinearSVC(C=1)\n",
    "lsvc.fit(train_df[predictors],train_df[target])\n",
    "dev_pred = lsvc.predict(dev_df[predictors])\n",
    "print(classification_report(dev_df[target],dev_pred))"
   ]
  },
  {
   "cell_type": "code",
   "execution_count": 41,
   "metadata": {
    "collapsed": false
   },
   "outputs": [
    {
     "name": "stdout",
     "output_type": "stream",
     "text": [
      "             precision    recall  f1-score   support\n",
      "\n",
      "          1       0.64      0.59      0.62       434\n",
      "          2       0.57      0.48      0.52       450\n",
      "          3       0.60      0.47      0.52       438\n",
      "          4       0.77      0.87      0.81       440\n",
      "          5       0.66      0.69      0.68       442\n",
      "          6       0.55      0.63      0.59       407\n",
      "          7       0.81      0.90      0.86       413\n",
      "\n",
      "avg / total       0.65      0.66      0.65      3024\n",
      "\n"
     ]
    }
   ],
   "source": [
    "softmax_reg = LogisticRegression(multi_class=\"multinomial\",solver=\"lbfgs\",C=4)\n",
    "softmax_reg.fit(train_df[predictors], train_df[target])\n",
    "dev_pred = softmax_reg.predict(dev_df[predictors])\n",
    "print(classification_report(dev_df[target],dev_pred))"
   ]
  },
  {
   "cell_type": "code",
   "execution_count": 42,
   "metadata": {
    "collapsed": false
   },
   "outputs": [
    {
     "name": "stdout",
     "output_type": "stream",
     "text": [
      "             precision    recall  f1-score   support\n",
      "\n",
      "          1       0.76      0.67      0.71       434\n",
      "          2       0.70      0.65      0.67       450\n",
      "          3       0.83      0.71      0.77       438\n",
      "          4       0.90      0.93      0.92       440\n",
      "          5       0.82      0.95      0.88       442\n",
      "          6       0.75      0.84      0.79       407\n",
      "          7       0.92      0.95      0.93       413\n",
      "\n",
      "avg / total       0.81      0.81      0.81      3024\n",
      "\n"
     ]
    }
   ],
   "source": [
    "from sklearn.neighbors import KNeighborsClassifier\n",
    "\n",
    "knn = KNeighborsClassifier(n_neighbors=1, algorithm='ball_tree', leaf_size=30)\n",
    "knn.fit(train_df[predictors], train_df[target])\n",
    "dev_pred = knn.predict(dev_df[predictors])\n",
    "print(classification_report(dev_df[target],dev_pred))"
   ]
  },
  {
   "cell_type": "code",
   "execution_count": 47,
   "metadata": {
    "collapsed": false
   },
   "outputs": [
    {
     "name": "stdout",
     "output_type": "stream",
     "text": [
      "             precision    recall  f1-score   support\n",
      "\n",
      "          1       0.75      0.75      0.75       434\n",
      "          2       0.78      0.70      0.74       450\n",
      "          3       0.86      0.85      0.86       438\n",
      "          4       0.94      0.97      0.95       440\n",
      "          5       0.92      0.95      0.93       442\n",
      "          6       0.85      0.87      0.86       407\n",
      "          7       0.94      0.95      0.95       413\n",
      "\n",
      "avg / total       0.86      0.86      0.86      3024\n",
      "\n"
     ]
    }
   ],
   "source": [
    "voter = VotingClassifier(\n",
    "    estimators=[('rf', rf),('lr', softmax_reg),('rrf', random_rf), ('knn', knn)],\n",
    "    voting='hard')\n",
    "voter.fit(train_df[predictors], train_df[target])\n",
    "dev_pred = voter.predict(dev_df[predictors])\n",
    "print(classification_report(dev_df[target],dev_pred))"
   ]
  },
  {
   "cell_type": "code",
   "execution_count": 13,
   "metadata": {
    "collapsed": false
   },
   "outputs": [
    {
     "name": "stdout",
     "output_type": "stream",
     "text": [
      "Variance explained by first 1 principal components: 0.654\n",
      "Variance explained by first 2 principal components: 0.75\n",
      "Variance explained by first 3 principal components: 0.824\n",
      "Variance explained by first 4 principal components: 0.874\n",
      "Variance explained by first 5 principal components: 0.914\n",
      "Variance explained by first 6 principal components: 0.945\n",
      "Variance explained by first 7 principal components: 0.97\n",
      "Variance explained by first 8 principal components: 0.984\n",
      "Variance explained by first 9 principal components: 0.995\n",
      "Variance explained by first 10 principal components: 1.0\n",
      "Variance explained by first 11 principal components: 1.0\n"
     ]
    },
    {
     "data": {
      "text/plain": [
       "[<matplotlib.lines.Line2D at 0x26319c883c8>]"
      ]
     },
     "execution_count": 13,
     "metadata": {},
     "output_type": "execute_result"
    },
    {
     "data": {
      "image/png": "[encoded data removed]",
      "text/plain": [
       "<matplotlib.figure.Figure at 0x26319c45710>"
      ]
     },
     "metadata": {},
     "output_type": "display_data"
    }
   ],
   "source": [
    "#PCA - find explained variance from each PC to determine an appropriate # of dimensions\n",
    "from sklearn.decomposition import PCA\n",
    "\n",
    "pca_mod = PCA(n_components=train_df.shape[1]-2)\n",
    "pca_mod.fit(train_df[predictors])\n",
    "explained_var = pca_mod.explained_variance_ratio_[0]\n",
    "exp_vars = []\n",
    "\n",
    "for k in range(1,train_df.shape[1]-2):\n",
    "    explained_var += pca_mod.explained_variance_ratio_[k]\n",
    "    exp_vars.append(explained_var)\n",
    "    print(\"Variance explained by first\", k, \"principal components:\", round(explained_var,3))\n",
    "    \n",
    "plt.plot(exp_vars)"
   ]
  },
  {
   "cell_type": "code",
   "execution_count": 28,
   "metadata": {
    "collapsed": true
   },
   "outputs": [],
   "source": [
    "#Project data into n dimensions\n",
    "n = 10\n",
    "pca_mod = PCA(n_components = n)\n",
    "projected_train = pca_mod.fit_transform(train_df[predictors])\n",
    "projected_dev = pca_mod.transform(dev_df[predictors])"
   ]
  },
  {
   "cell_type": "code",
   "execution_count": 15,
   "metadata": {
    "collapsed": false
   },
   "outputs": [
    {
     "name": "stdout",
     "output_type": "stream",
     "text": [
      "Wallclock time in secs for Random Forest Grid Search: 5084.3435826301575\n",
      "Best params from grid search are: {'max_features': 'auto', 'n_estimators': 500, 'bootstrap': False}\n"
     ]
    }
   ],
   "source": [
    "#Re-run all models with projected data\n",
    "param_grid = [\n",
    "    {'n_estimators': [100, 250, 500, 750], 'max_features': [2, 4, 6, 8, 'auto'], 'oob_score':[True,False]},\n",
    "    {'bootstrap': [False], 'n_estimators': [250, 500], 'max_features': [2, 4, 6, 8, 'auto']},\n",
    "  ]\n",
    "rf = RandomForestClassifier()\n",
    "\n",
    "start_time = time.time()\n",
    "grid_search = GridSearchCV(rf, param_grid, cv=5)\n",
    "grid_search.fit(projected_train, train_df[target])\n",
    "end_time = time.time()\n",
    "print(\"Wallclock time in secs for Random Forest Grid Search:\",end_time - start_time)\n",
    "print(\"Best params from grid search are:\",grid_search.best_params_)\n"
   ]
  },
  {
   "cell_type": "code",
   "execution_count": 29,
   "metadata": {
    "collapsed": false
   },
   "outputs": [
    {
     "name": "stdout",
     "output_type": "stream",
     "text": [
      "0.824404761905\n",
      "             precision    recall  f1-score   support\n",
      "\n",
      "          1       0.74      0.70      0.72       434\n",
      "          2       0.73      0.66      0.69       450\n",
      "          3       0.82      0.78      0.80       438\n",
      "          4       0.90      0.95      0.92       440\n",
      "          5       0.87      0.94      0.90       442\n",
      "          6       0.78      0.82      0.80       407\n",
      "          7       0.92      0.94      0.93       413\n",
      "\n",
      "avg / total       0.82      0.82      0.82      3024\n",
      "\n"
     ]
    }
   ],
   "source": [
    "# rf = RandomForestClassifier(**grid_search.best_params_)\n",
    "rf = RandomForestClassifier(bootstrap=False, max_features='auto', n_estimators=500)\n",
    "rf.fit(projected_train,train_df[target])\n",
    "print(rf.score(projected_dev, dev_df[target]))\n",
    "dev_pred = rf.predict(projected_dev)\n",
    "print(classification_report(dev_df[target],dev_pred))\n"
   ]
  },
  {
   "cell_type": "code",
   "execution_count": 30,
   "metadata": {
    "collapsed": false
   },
   "outputs": [
    {
     "name": "stdout",
     "output_type": "stream",
     "text": [
      "Wallclock time in secs for Random Forest Grid Search: 960.9144654273987\n",
      "Randomized grid search best params are: {'max_features': 'log2', 'n_estimators': 750}\n"
     ]
    }
   ],
   "source": [
    "param_grid = {'n_estimators': [100,250,500,750],'max_features': [2, 4, 6, 8, 'log2'] }\n",
    "rf = RandomForestClassifier(oob_score=True)\n",
    "\n",
    "\n",
    "start_time = time.time()\n",
    "random_search = RandomizedSearchCV(rf,param_distributions=param_grid, n_iter=20)\n",
    "random_search.fit(projected_train,train_df[target])\n",
    "end_time = time.time()\n",
    "print(\"Wallclock time in secs for Random Forest Grid Search:\",end_time - start_time)\n",
    "print(\"Randomized grid search best params are:\",random_search.best_params_)"
   ]
  },
  {
   "cell_type": "code",
   "execution_count": 31,
   "metadata": {
    "collapsed": false
   },
   "outputs": [
    {
     "name": "stdout",
     "output_type": "stream",
     "text": [
      "0.820767195767\n",
      "             precision    recall  f1-score   support\n",
      "\n",
      "          1       0.73      0.70      0.71       434\n",
      "          2       0.72      0.64      0.68       450\n",
      "          3       0.83      0.75      0.79       438\n",
      "          4       0.88      0.96      0.92       440\n",
      "          5       0.86      0.94      0.90       442\n",
      "          6       0.78      0.82      0.80       407\n",
      "          7       0.92      0.94      0.93       413\n",
      "\n",
      "avg / total       0.82      0.82      0.82      3024\n",
      "\n"
     ]
    }
   ],
   "source": [
    "# random_rf = RandomForestClassifier(**random_search.best_params_)\n",
    "random_rf = RandomForestClassifier(n_estimators=750, max_features='log2')\n",
    "random_rf.fit(projected_train,train_df[target])\n",
    "print(random_rf.score(projected_dev, dev_df[target]))\n",
    "dev_pred = random_rf.predict(projected_dev)\n",
    "print(classification_report(dev_df[target],dev_pred))"
   ]
  },
  {
   "cell_type": "code",
   "execution_count": 33,
   "metadata": {
    "collapsed": false
   },
   "outputs": [
    {
     "name": "stdout",
     "output_type": "stream",
     "text": [
      "             precision    recall  f1-score   support\n",
      "\n",
      "          1       0.58      0.42      0.49       434\n",
      "          2       0.52      0.45      0.49       450\n",
      "          3       0.53      0.45      0.49       438\n",
      "          4       0.74      0.90      0.81       440\n",
      "          5       0.57      0.50      0.54       442\n",
      "          6       0.48      0.59      0.53       407\n",
      "          7       0.73      0.92      0.81       413\n",
      "\n",
      "avg / total       0.59      0.60      0.59      3024\n",
      "\n"
     ]
    }
   ],
   "source": [
    "lsvc = LinearSVC(C=1)\n",
    "lsvc.fit(projected_train,train_df[target])\n",
    "dev_pred = lsvc.predict(projected_dev)\n",
    "print(classification_report(dev_df[target],dev_pred))"
   ]
  },
  {
   "cell_type": "code",
   "execution_count": 34,
   "metadata": {
    "collapsed": false
   },
   "outputs": [
    {
     "name": "stdout",
     "output_type": "stream",
     "text": [
      "             precision    recall  f1-score   support\n",
      "\n",
      "          1       0.65      0.59      0.62       434\n",
      "          2       0.55      0.49      0.52       450\n",
      "          3       0.59      0.46      0.51       438\n",
      "          4       0.76      0.87      0.81       440\n",
      "          5       0.66      0.71      0.68       442\n",
      "          6       0.55      0.61      0.58       407\n",
      "          7       0.82      0.91      0.86       413\n",
      "\n",
      "avg / total       0.65      0.66      0.65      3024\n",
      "\n"
     ]
    }
   ],
   "source": [
    "softmax_reg = LogisticRegression(multi_class=\"multinomial\",solver=\"lbfgs\",C=4)\n",
    "softmax_reg.fit(projected_train, train_df[target])\n",
    "dev_pred = softmax_reg.predict(projected_dev)\n",
    "print(classification_report(dev_df[target],dev_pred))"
   ]
  },
  {
   "cell_type": "code",
   "execution_count": 55,
   "metadata": {
    "collapsed": false
   },
   "outputs": [
    {
     "name": "stdout",
     "output_type": "stream",
     "text": [
      "             precision    recall  f1-score   support\n",
      "\n",
      "          1       0.74      0.66      0.70       434\n",
      "          2       0.69      0.64      0.66       450\n",
      "          3       0.84      0.70      0.77       438\n",
      "          4       0.90      0.93      0.91       440\n",
      "          5       0.82      0.94      0.88       442\n",
      "          6       0.74      0.85      0.79       407\n",
      "          7       0.91      0.95      0.93       413\n",
      "\n",
      "avg / total       0.81      0.81      0.80      3024\n",
      "\n"
     ]
    }
   ],
   "source": [
    "knn = KNeighborsClassifier(n_neighbors=1, algorithm='ball_tree', leaf_size=30)\n",
    "knn.fit(projected_train, train_df[target])\n",
    "dev_pred = knn.predict(projected_dev)\n",
    "print(classification_report(dev_df[target],dev_pred))"
   ]
  },
  {
   "cell_type": "code",
   "execution_count": 37,
   "metadata": {
    "collapsed": false
   },
   "outputs": [
    {
     "name": "stderr",
     "output_type": "stream",
     "text": [
      "C:\\Users\\Jessica\\Anaconda3\\lib\\site-packages\\sklearn\\ensemble\\forest.py:439: UserWarning: Some inputs do not have OOB scores. This probably means too few trees were used to compute any reliable oob estimates.\n",
      "  warn(\"Some inputs do not have OOB scores. \"\n"
     ]
    },
    {
     "name": "stdout",
     "output_type": "stream",
     "text": [
      "             precision    recall  f1-score   support\n",
      "\n",
      "          1       0.71      0.74      0.73       434\n",
      "          2       0.71      0.62      0.66       450\n",
      "          3       0.81      0.79      0.80       438\n",
      "          4       0.89      0.95      0.92       440\n",
      "          5       0.87      0.92      0.89       442\n",
      "          6       0.80      0.79      0.80       407\n",
      "          7       0.94      0.94      0.94       413\n",
      "\n",
      "avg / total       0.82      0.82      0.82      3024\n",
      "\n"
     ]
    }
   ],
   "source": [
    "voter = VotingClassifier(\n",
    "    estimators=[('rf', rf),('lr', softmax_reg),('rrf', random_rf), ('knn', knn)],\n",
    "    voting='hard')\n",
    "voter.fit(projected_train, train_df[target])\n",
    "dev_pred = voter.predict(projected_dev)\n",
    "print(classification_report(dev_df[target],dev_pred))"
   ]
  }
 ],
 "metadata": {
  "anaconda-cloud": {},
  "kernelspec": {
   "display_name": "Python [Root]",
   "language": "python",
   "name": "Python [Root]"
  },
  "language_info": {
   "codemirror_mode": {
    "name": "ipython",
    "version": 3
   },
   "file_extension": ".py",
   "mimetype": "text/x-python",
   "name": "python",
   "nbconvert_exporter": "python",
   "pygments_lexer": "ipython3",
   "version": "3.5.2"
  }
 },
 "nbformat": 4,
 "nbformat_minor": 2
}
