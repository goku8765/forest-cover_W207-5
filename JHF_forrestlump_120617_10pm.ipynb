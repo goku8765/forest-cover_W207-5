{
 "cells": [
  {
   "cell_type": "code",
   "execution_count": null,
   "metadata": {},
   "outputs": [],
   "source": [
    "%matplotlib inline\n",
    "\n",
    "import matplotlib.pyplot as plt\n",
    "import numpy as np\n",
    "import pandas as pd\n",
    "from sklearn.model_selection import train_test_split\n",
    "from sklearn.tree import DecisionTreeClassifier\n",
    "from sklearn.model_selection import GridSearchCV\n",
    "from sklearn.model_selection import cross_val_score\n",
    "from sklearn.ensemble import RandomForestClassifier\n",
    "from sklearn.ensemble import GradientBoostingClassifier\n",
    "from sklearn.metrics import r2_score\n",
    "from sklearn.model_selection import KFold\n",
    "from sklearn.decomposition import PCA\n",
    "import pdb\n",
    "from sklearn.linear_model import LogisticRegression\n",
    "import time\n",
    "\n",
    "\n",
    "# For producing decision tree diagrams.\n",
    "from IPython.core.display import Image, display\n",
    "from sklearn.externals.six import StringIO"
   ]
  },
  {
   "cell_type": "code",
   "execution_count": null,
   "metadata": {},
   "outputs": [],
   "source": [
    "# import training data into frame. normalize, and split into train and dev. \n",
    "\n",
    "train_df = pd.read_csv('train.csv')\n",
    "\n",
    "# check for missing values in frame. \n",
    "train_df.isnull().values.any()\n",
    "print(\"Raw training set shape:\",train_df.shape)\n",
    "\n",
    "predictors = list(train_df) # includes ID and target/class columns\n",
    "train_id = predictors.pop(0) # pop out ID column\n",
    "target = list.pop(predictors) # pop out target column\n",
    "print(predictors)\n",
    "print(len(predictors))\n",
    "\n",
    "# two kinds of normalization - min-max or z-score. z-score may lead to negative values for otherwise non-negative quantities \n",
    "# (such as altitude) - which may be ok from a prediction standpoint \n",
    "\n",
    "# should we be splitting after normalization. Or before? Before makes sense cause dev data should be a surrogate for actual - \n",
    "# - kaggle test data we have not seen yet. \n",
    "train_df, dev_df = train_test_split(train_df)\n",
    "\n",
    "# display histograms for basic EDA. titles in Red. \n",
    "plt.figure(figsize=(35, 35))\n",
    "plt.subplots_adjust(hspace=1.0,wspace=0.5)\n",
    "for i in range(0,len(predictors)):\n",
    "    plt.subplot(20,10,i+1)\n",
    "    data = train_df[predictors[i]].T # transposing to view counts on y-axis\n",
    "    ax = data.hist()\n",
    "    ax.set_title(predictors[i],color='Red') \n",
    "\n",
    "# Needs to store these values for transforming new data presented to the eventual model for prediction. \n",
    "train_df_mean =  train_df.mean().astype(float)\n",
    "train_df_sd = train_df.std().astype(float)\n",
    "train_df_min = train_df.min().astype(float)\n",
    "train_df_max = train_df.max().astype(float)\n",
    "\n",
    "# going with z-scores. some columns may look weird. caveat emptor. note that dev-data is normalized based on train dist. \n",
    "train_df[predictors[0:10]] = (train_df[predictors[0:10]]-train_df_mean[predictors[0:10]])/train_df_sd[predictors[0:10]]\n",
    "dev_df[predictors[0:10]] = (dev_df[predictors[0:10]]-train_df_mean[predictors[0:10]])/train_df_sd[predictors[0:10]]\n",
    "\n",
    "print(\"After split, Train and Dev dataset shapes are:\",train_df.shape, dev_df.shape)\n",
    "\n",
    "# display histograms post normalization. Titles in Green.\n",
    "plt.figure(figsize=(35, 35))\n",
    "plt.subplots_adjust(hspace=1.0,wspace=0.5)\n",
    "for i in range(0,len(predictors)):\n",
    "    plt.subplot(20,10,i+1)\n",
    "    data = train_df[predictors[i]].T # transposing to view counts on y-axis\n",
    "    ax = data.hist()\n",
    "    ax.set_title(predictors[i],color='Green') "
   ]
  },
  {
   "cell_type": "code",
   "execution_count": 16,
   "metadata": {},
   "outputs": [
    {
     "ename": "ValueError",
     "evalue": "Invalid parameter min_impurity_decrease for estimator DecisionTreeClassifier. Check the list of available parameters with `estimator.get_params().keys()`.",
     "output_type": "error",
     "traceback": [
      "\u001b[0;31m---------------------------------------------------------------------------\u001b[0m",
      "\u001b[0;31mValueError\u001b[0m                                Traceback (most recent call last)",
      "\u001b[0;32m<ipython-input-16-44e598d94f89>\u001b[0m in \u001b[0;36m<module>\u001b[0;34m()\u001b[0m\n\u001b[1;32m      5\u001b[0m \u001b[0mparameter_grid\u001b[0m \u001b[0;34m=\u001b[0m \u001b[0;34m{\u001b[0m\u001b[0;34m'min_impurity_decrease'\u001b[0m\u001b[0;34m:\u001b[0m \u001b[0;36m3.\u001b[0m \u001b[0;34m**\u001b[0m \u001b[0mnp\u001b[0m\u001b[0;34m.\u001b[0m\u001b[0marange\u001b[0m\u001b[0;34m(\u001b[0m\u001b[0;34m-\u001b[0m\u001b[0;36m10\u001b[0m\u001b[0;34m,\u001b[0m \u001b[0;36m5\u001b[0m\u001b[0;34m)\u001b[0m\u001b[0;34m}\u001b[0m\u001b[0;34m\u001b[0m\u001b[0m\n\u001b[1;32m      6\u001b[0m \u001b[0mparam_searcher\u001b[0m \u001b[0;34m=\u001b[0m \u001b[0mGridSearchCV\u001b[0m\u001b[0;34m(\u001b[0m\u001b[0mdt\u001b[0m\u001b[0;34m,\u001b[0m \u001b[0mparameter_grid\u001b[0m\u001b[0;34m,\u001b[0m \u001b[0mcv\u001b[0m\u001b[0;34m=\u001b[0m\u001b[0;36m10\u001b[0m\u001b[0;34m)\u001b[0m\u001b[0;34m\u001b[0m\u001b[0m\n\u001b[0;32m----> 7\u001b[0;31m \u001b[0mparam_searcher\u001b[0m\u001b[0;34m.\u001b[0m\u001b[0mfit\u001b[0m\u001b[0;34m(\u001b[0m\u001b[0mtrain_df\u001b[0m\u001b[0;34m[\u001b[0m\u001b[0mpredictors\u001b[0m\u001b[0;34m]\u001b[0m\u001b[0;34m,\u001b[0m \u001b[0mtrain_df\u001b[0m\u001b[0;34m[\u001b[0m\u001b[0mtarget\u001b[0m\u001b[0;34m]\u001b[0m\u001b[0;34m)\u001b[0m\u001b[0;34m\u001b[0m\u001b[0m\n\u001b[0m\u001b[1;32m      8\u001b[0m \u001b[0mdt\u001b[0m \u001b[0;34m=\u001b[0m \u001b[0mDecisionTreeClassifier\u001b[0m\u001b[0;34m(\u001b[0m\u001b[0;34m**\u001b[0m\u001b[0mparam_searcher\u001b[0m\u001b[0;34m.\u001b[0m\u001b[0mbest_params_\u001b[0m\u001b[0;34m)\u001b[0m\u001b[0;34m\u001b[0m\u001b[0m\n\u001b[1;32m      9\u001b[0m \u001b[0mscores\u001b[0m \u001b[0;34m=\u001b[0m \u001b[0mcross_val_score\u001b[0m\u001b[0;34m(\u001b[0m\u001b[0mdt\u001b[0m\u001b[0;34m,\u001b[0m \u001b[0mtrain_df\u001b[0m\u001b[0;34m[\u001b[0m\u001b[0mpredictors\u001b[0m\u001b[0;34m]\u001b[0m\u001b[0;34m,\u001b[0m \u001b[0mtrain_df\u001b[0m\u001b[0;34m[\u001b[0m\u001b[0mtarget\u001b[0m\u001b[0;34m]\u001b[0m\u001b[0;34m,\u001b[0m \u001b[0mcv\u001b[0m\u001b[0;34m=\u001b[0m\u001b[0;36m10\u001b[0m\u001b[0;34m)\u001b[0m\u001b[0;34m\u001b[0m\u001b[0m\n",
      "\u001b[0;32m/Users/heatherfeinstein/anaconda/lib/python3.6/site-packages/sklearn/model_selection/_search.py\u001b[0m in \u001b[0;36mfit\u001b[0;34m(self, X, y, groups)\u001b[0m\n\u001b[1;32m    943\u001b[0m             \u001b[0mtrain\u001b[0m\u001b[0;34m/\u001b[0m\u001b[0mtest\u001b[0m \u001b[0mset\u001b[0m\u001b[0;34m.\u001b[0m\u001b[0;34m\u001b[0m\u001b[0m\n\u001b[1;32m    944\u001b[0m         \"\"\"\n\u001b[0;32m--> 945\u001b[0;31m         \u001b[0;32mreturn\u001b[0m \u001b[0mself\u001b[0m\u001b[0;34m.\u001b[0m\u001b[0m_fit\u001b[0m\u001b[0;34m(\u001b[0m\u001b[0mX\u001b[0m\u001b[0;34m,\u001b[0m \u001b[0my\u001b[0m\u001b[0;34m,\u001b[0m \u001b[0mgroups\u001b[0m\u001b[0;34m,\u001b[0m \u001b[0mParameterGrid\u001b[0m\u001b[0;34m(\u001b[0m\u001b[0mself\u001b[0m\u001b[0;34m.\u001b[0m\u001b[0mparam_grid\u001b[0m\u001b[0;34m)\u001b[0m\u001b[0;34m)\u001b[0m\u001b[0;34m\u001b[0m\u001b[0m\n\u001b[0m\u001b[1;32m    946\u001b[0m \u001b[0;34m\u001b[0m\u001b[0m\n\u001b[1;32m    947\u001b[0m \u001b[0;34m\u001b[0m\u001b[0m\n",
      "\u001b[0;32m/Users/heatherfeinstein/anaconda/lib/python3.6/site-packages/sklearn/model_selection/_search.py\u001b[0m in \u001b[0;36m_fit\u001b[0;34m(self, X, y, groups, parameter_iterable)\u001b[0m\n\u001b[1;32m    562\u001b[0m                                   \u001b[0mreturn_times\u001b[0m\u001b[0;34m=\u001b[0m\u001b[0;32mTrue\u001b[0m\u001b[0;34m,\u001b[0m \u001b[0mreturn_parameters\u001b[0m\u001b[0;34m=\u001b[0m\u001b[0;32mTrue\u001b[0m\u001b[0;34m,\u001b[0m\u001b[0;34m\u001b[0m\u001b[0m\n\u001b[1;32m    563\u001b[0m                                   error_score=self.error_score)\n\u001b[0;32m--> 564\u001b[0;31m           \u001b[0;32mfor\u001b[0m \u001b[0mparameters\u001b[0m \u001b[0;32min\u001b[0m \u001b[0mparameter_iterable\u001b[0m\u001b[0;34m\u001b[0m\u001b[0m\n\u001b[0m\u001b[1;32m    565\u001b[0m           for train, test in cv_iter)\n\u001b[1;32m    566\u001b[0m \u001b[0;34m\u001b[0m\u001b[0m\n",
      "\u001b[0;32m/Users/heatherfeinstein/anaconda/lib/python3.6/site-packages/sklearn/externals/joblib/parallel.py\u001b[0m in \u001b[0;36m__call__\u001b[0;34m(self, iterable)\u001b[0m\n\u001b[1;32m    756\u001b[0m             \u001b[0;31m# was dispatched. In particular this covers the edge\u001b[0m\u001b[0;34m\u001b[0m\u001b[0;34m\u001b[0m\u001b[0m\n\u001b[1;32m    757\u001b[0m             \u001b[0;31m# case of Parallel used with an exhausted iterator.\u001b[0m\u001b[0;34m\u001b[0m\u001b[0;34m\u001b[0m\u001b[0m\n\u001b[0;32m--> 758\u001b[0;31m             \u001b[0;32mwhile\u001b[0m \u001b[0mself\u001b[0m\u001b[0;34m.\u001b[0m\u001b[0mdispatch_one_batch\u001b[0m\u001b[0;34m(\u001b[0m\u001b[0miterator\u001b[0m\u001b[0;34m)\u001b[0m\u001b[0;34m:\u001b[0m\u001b[0;34m\u001b[0m\u001b[0m\n\u001b[0m\u001b[1;32m    759\u001b[0m                 \u001b[0mself\u001b[0m\u001b[0;34m.\u001b[0m\u001b[0m_iterating\u001b[0m \u001b[0;34m=\u001b[0m \u001b[0;32mTrue\u001b[0m\u001b[0;34m\u001b[0m\u001b[0m\n\u001b[1;32m    760\u001b[0m             \u001b[0;32melse\u001b[0m\u001b[0;34m:\u001b[0m\u001b[0;34m\u001b[0m\u001b[0m\n",
      "\u001b[0;32m/Users/heatherfeinstein/anaconda/lib/python3.6/site-packages/sklearn/externals/joblib/parallel.py\u001b[0m in \u001b[0;36mdispatch_one_batch\u001b[0;34m(self, iterator)\u001b[0m\n\u001b[1;32m    606\u001b[0m                 \u001b[0;32mreturn\u001b[0m \u001b[0;32mFalse\u001b[0m\u001b[0;34m\u001b[0m\u001b[0m\n\u001b[1;32m    607\u001b[0m             \u001b[0;32melse\u001b[0m\u001b[0;34m:\u001b[0m\u001b[0;34m\u001b[0m\u001b[0m\n\u001b[0;32m--> 608\u001b[0;31m                 \u001b[0mself\u001b[0m\u001b[0;34m.\u001b[0m\u001b[0m_dispatch\u001b[0m\u001b[0;34m(\u001b[0m\u001b[0mtasks\u001b[0m\u001b[0;34m)\u001b[0m\u001b[0;34m\u001b[0m\u001b[0m\n\u001b[0m\u001b[1;32m    609\u001b[0m                 \u001b[0;32mreturn\u001b[0m \u001b[0;32mTrue\u001b[0m\u001b[0;34m\u001b[0m\u001b[0m\n\u001b[1;32m    610\u001b[0m \u001b[0;34m\u001b[0m\u001b[0m\n",
      "\u001b[0;32m/Users/heatherfeinstein/anaconda/lib/python3.6/site-packages/sklearn/externals/joblib/parallel.py\u001b[0m in \u001b[0;36m_dispatch\u001b[0;34m(self, batch)\u001b[0m\n\u001b[1;32m    569\u001b[0m         \u001b[0mdispatch_timestamp\u001b[0m \u001b[0;34m=\u001b[0m \u001b[0mtime\u001b[0m\u001b[0;34m.\u001b[0m\u001b[0mtime\u001b[0m\u001b[0;34m(\u001b[0m\u001b[0;34m)\u001b[0m\u001b[0;34m\u001b[0m\u001b[0m\n\u001b[1;32m    570\u001b[0m         \u001b[0mcb\u001b[0m \u001b[0;34m=\u001b[0m \u001b[0mBatchCompletionCallBack\u001b[0m\u001b[0;34m(\u001b[0m\u001b[0mdispatch_timestamp\u001b[0m\u001b[0;34m,\u001b[0m \u001b[0mlen\u001b[0m\u001b[0;34m(\u001b[0m\u001b[0mbatch\u001b[0m\u001b[0;34m)\u001b[0m\u001b[0;34m,\u001b[0m \u001b[0mself\u001b[0m\u001b[0;34m)\u001b[0m\u001b[0;34m\u001b[0m\u001b[0m\n\u001b[0;32m--> 571\u001b[0;31m         \u001b[0mjob\u001b[0m \u001b[0;34m=\u001b[0m \u001b[0mself\u001b[0m\u001b[0;34m.\u001b[0m\u001b[0m_backend\u001b[0m\u001b[0;34m.\u001b[0m\u001b[0mapply_async\u001b[0m\u001b[0;34m(\u001b[0m\u001b[0mbatch\u001b[0m\u001b[0;34m,\u001b[0m \u001b[0mcallback\u001b[0m\u001b[0;34m=\u001b[0m\u001b[0mcb\u001b[0m\u001b[0;34m)\u001b[0m\u001b[0;34m\u001b[0m\u001b[0m\n\u001b[0m\u001b[1;32m    572\u001b[0m         \u001b[0mself\u001b[0m\u001b[0;34m.\u001b[0m\u001b[0m_jobs\u001b[0m\u001b[0;34m.\u001b[0m\u001b[0mappend\u001b[0m\u001b[0;34m(\u001b[0m\u001b[0mjob\u001b[0m\u001b[0;34m)\u001b[0m\u001b[0;34m\u001b[0m\u001b[0m\n\u001b[1;32m    573\u001b[0m \u001b[0;34m\u001b[0m\u001b[0m\n",
      "\u001b[0;32m/Users/heatherfeinstein/anaconda/lib/python3.6/site-packages/sklearn/externals/joblib/_parallel_backends.py\u001b[0m in \u001b[0;36mapply_async\u001b[0;34m(self, func, callback)\u001b[0m\n\u001b[1;32m    107\u001b[0m     \u001b[0;32mdef\u001b[0m \u001b[0mapply_async\u001b[0m\u001b[0;34m(\u001b[0m\u001b[0mself\u001b[0m\u001b[0;34m,\u001b[0m \u001b[0mfunc\u001b[0m\u001b[0;34m,\u001b[0m \u001b[0mcallback\u001b[0m\u001b[0;34m=\u001b[0m\u001b[0;32mNone\u001b[0m\u001b[0;34m)\u001b[0m\u001b[0;34m:\u001b[0m\u001b[0;34m\u001b[0m\u001b[0m\n\u001b[1;32m    108\u001b[0m         \u001b[0;34m\"\"\"Schedule a func to be run\"\"\"\u001b[0m\u001b[0;34m\u001b[0m\u001b[0m\n\u001b[0;32m--> 109\u001b[0;31m         \u001b[0mresult\u001b[0m \u001b[0;34m=\u001b[0m \u001b[0mImmediateResult\u001b[0m\u001b[0;34m(\u001b[0m\u001b[0mfunc\u001b[0m\u001b[0;34m)\u001b[0m\u001b[0;34m\u001b[0m\u001b[0m\n\u001b[0m\u001b[1;32m    110\u001b[0m         \u001b[0;32mif\u001b[0m \u001b[0mcallback\u001b[0m\u001b[0;34m:\u001b[0m\u001b[0;34m\u001b[0m\u001b[0m\n\u001b[1;32m    111\u001b[0m             \u001b[0mcallback\u001b[0m\u001b[0;34m(\u001b[0m\u001b[0mresult\u001b[0m\u001b[0;34m)\u001b[0m\u001b[0;34m\u001b[0m\u001b[0m\n",
      "\u001b[0;32m/Users/heatherfeinstein/anaconda/lib/python3.6/site-packages/sklearn/externals/joblib/_parallel_backends.py\u001b[0m in \u001b[0;36m__init__\u001b[0;34m(self, batch)\u001b[0m\n\u001b[1;32m    324\u001b[0m         \u001b[0;31m# Don't delay the application, to avoid keeping the input\u001b[0m\u001b[0;34m\u001b[0m\u001b[0;34m\u001b[0m\u001b[0m\n\u001b[1;32m    325\u001b[0m         \u001b[0;31m# arguments in memory\u001b[0m\u001b[0;34m\u001b[0m\u001b[0;34m\u001b[0m\u001b[0m\n\u001b[0;32m--> 326\u001b[0;31m         \u001b[0mself\u001b[0m\u001b[0;34m.\u001b[0m\u001b[0mresults\u001b[0m \u001b[0;34m=\u001b[0m \u001b[0mbatch\u001b[0m\u001b[0;34m(\u001b[0m\u001b[0;34m)\u001b[0m\u001b[0;34m\u001b[0m\u001b[0m\n\u001b[0m\u001b[1;32m    327\u001b[0m \u001b[0;34m\u001b[0m\u001b[0m\n\u001b[1;32m    328\u001b[0m     \u001b[0;32mdef\u001b[0m \u001b[0mget\u001b[0m\u001b[0;34m(\u001b[0m\u001b[0mself\u001b[0m\u001b[0;34m)\u001b[0m\u001b[0;34m:\u001b[0m\u001b[0;34m\u001b[0m\u001b[0m\n",
      "\u001b[0;32m/Users/heatherfeinstein/anaconda/lib/python3.6/site-packages/sklearn/externals/joblib/parallel.py\u001b[0m in \u001b[0;36m__call__\u001b[0;34m(self)\u001b[0m\n\u001b[1;32m    129\u001b[0m \u001b[0;34m\u001b[0m\u001b[0m\n\u001b[1;32m    130\u001b[0m     \u001b[0;32mdef\u001b[0m \u001b[0m__call__\u001b[0m\u001b[0;34m(\u001b[0m\u001b[0mself\u001b[0m\u001b[0;34m)\u001b[0m\u001b[0;34m:\u001b[0m\u001b[0;34m\u001b[0m\u001b[0m\n\u001b[0;32m--> 131\u001b[0;31m         \u001b[0;32mreturn\u001b[0m \u001b[0;34m[\u001b[0m\u001b[0mfunc\u001b[0m\u001b[0;34m(\u001b[0m\u001b[0;34m*\u001b[0m\u001b[0margs\u001b[0m\u001b[0;34m,\u001b[0m \u001b[0;34m**\u001b[0m\u001b[0mkwargs\u001b[0m\u001b[0;34m)\u001b[0m \u001b[0;32mfor\u001b[0m \u001b[0mfunc\u001b[0m\u001b[0;34m,\u001b[0m \u001b[0margs\u001b[0m\u001b[0;34m,\u001b[0m \u001b[0mkwargs\u001b[0m \u001b[0;32min\u001b[0m \u001b[0mself\u001b[0m\u001b[0;34m.\u001b[0m\u001b[0mitems\u001b[0m\u001b[0;34m]\u001b[0m\u001b[0;34m\u001b[0m\u001b[0m\n\u001b[0m\u001b[1;32m    132\u001b[0m \u001b[0;34m\u001b[0m\u001b[0m\n\u001b[1;32m    133\u001b[0m     \u001b[0;32mdef\u001b[0m \u001b[0m__len__\u001b[0m\u001b[0;34m(\u001b[0m\u001b[0mself\u001b[0m\u001b[0;34m)\u001b[0m\u001b[0;34m:\u001b[0m\u001b[0;34m\u001b[0m\u001b[0m\n",
      "\u001b[0;32m/Users/heatherfeinstein/anaconda/lib/python3.6/site-packages/sklearn/externals/joblib/parallel.py\u001b[0m in \u001b[0;36m<listcomp>\u001b[0;34m(.0)\u001b[0m\n\u001b[1;32m    129\u001b[0m \u001b[0;34m\u001b[0m\u001b[0m\n\u001b[1;32m    130\u001b[0m     \u001b[0;32mdef\u001b[0m \u001b[0m__call__\u001b[0m\u001b[0;34m(\u001b[0m\u001b[0mself\u001b[0m\u001b[0;34m)\u001b[0m\u001b[0;34m:\u001b[0m\u001b[0;34m\u001b[0m\u001b[0m\n\u001b[0;32m--> 131\u001b[0;31m         \u001b[0;32mreturn\u001b[0m \u001b[0;34m[\u001b[0m\u001b[0mfunc\u001b[0m\u001b[0;34m(\u001b[0m\u001b[0;34m*\u001b[0m\u001b[0margs\u001b[0m\u001b[0;34m,\u001b[0m \u001b[0;34m**\u001b[0m\u001b[0mkwargs\u001b[0m\u001b[0;34m)\u001b[0m \u001b[0;32mfor\u001b[0m \u001b[0mfunc\u001b[0m\u001b[0;34m,\u001b[0m \u001b[0margs\u001b[0m\u001b[0;34m,\u001b[0m \u001b[0mkwargs\u001b[0m \u001b[0;32min\u001b[0m \u001b[0mself\u001b[0m\u001b[0;34m.\u001b[0m\u001b[0mitems\u001b[0m\u001b[0;34m]\u001b[0m\u001b[0;34m\u001b[0m\u001b[0m\n\u001b[0m\u001b[1;32m    132\u001b[0m \u001b[0;34m\u001b[0m\u001b[0m\n\u001b[1;32m    133\u001b[0m     \u001b[0;32mdef\u001b[0m \u001b[0m__len__\u001b[0m\u001b[0;34m(\u001b[0m\u001b[0mself\u001b[0m\u001b[0;34m)\u001b[0m\u001b[0;34m:\u001b[0m\u001b[0;34m\u001b[0m\u001b[0m\n",
      "\u001b[0;32m/Users/heatherfeinstein/anaconda/lib/python3.6/site-packages/sklearn/model_selection/_validation.py\u001b[0m in \u001b[0;36m_fit_and_score\u001b[0;34m(estimator, X, y, scorer, train, test, verbose, parameters, fit_params, return_train_score, return_parameters, return_n_test_samples, return_times, error_score)\u001b[0m\n\u001b[1;32m    225\u001b[0m \u001b[0;34m\u001b[0m\u001b[0m\n\u001b[1;32m    226\u001b[0m     \u001b[0;32mif\u001b[0m \u001b[0mparameters\u001b[0m \u001b[0;32mis\u001b[0m \u001b[0;32mnot\u001b[0m \u001b[0;32mNone\u001b[0m\u001b[0;34m:\u001b[0m\u001b[0;34m\u001b[0m\u001b[0m\n\u001b[0;32m--> 227\u001b[0;31m         \u001b[0mestimator\u001b[0m\u001b[0;34m.\u001b[0m\u001b[0mset_params\u001b[0m\u001b[0;34m(\u001b[0m\u001b[0;34m**\u001b[0m\u001b[0mparameters\u001b[0m\u001b[0;34m)\u001b[0m\u001b[0;34m\u001b[0m\u001b[0m\n\u001b[0m\u001b[1;32m    228\u001b[0m \u001b[0;34m\u001b[0m\u001b[0m\n\u001b[1;32m    229\u001b[0m     \u001b[0mstart_time\u001b[0m \u001b[0;34m=\u001b[0m \u001b[0mtime\u001b[0m\u001b[0;34m.\u001b[0m\u001b[0mtime\u001b[0m\u001b[0;34m(\u001b[0m\u001b[0;34m)\u001b[0m\u001b[0;34m\u001b[0m\u001b[0m\n",
      "\u001b[0;32m/Users/heatherfeinstein/anaconda/lib/python3.6/site-packages/sklearn/base.py\u001b[0m in \u001b[0;36mset_params\u001b[0;34m(self, **params)\u001b[0m\n\u001b[1;32m    289\u001b[0m                                      \u001b[0;34m'Check the list of available parameters '\u001b[0m\u001b[0;34m\u001b[0m\u001b[0m\n\u001b[1;32m    290\u001b[0m                                      \u001b[0;34m'with `estimator.get_params().keys()`.'\u001b[0m \u001b[0;34m%\u001b[0m\u001b[0;34m\u001b[0m\u001b[0m\n\u001b[0;32m--> 291\u001b[0;31m                                      (key, self.__class__.__name__))\n\u001b[0m\u001b[1;32m    292\u001b[0m                 \u001b[0msetattr\u001b[0m\u001b[0;34m(\u001b[0m\u001b[0mself\u001b[0m\u001b[0;34m,\u001b[0m \u001b[0mkey\u001b[0m\u001b[0;34m,\u001b[0m \u001b[0mvalue\u001b[0m\u001b[0;34m)\u001b[0m\u001b[0;34m\u001b[0m\u001b[0m\n\u001b[1;32m    293\u001b[0m         \u001b[0;32mreturn\u001b[0m \u001b[0mself\u001b[0m\u001b[0;34m\u001b[0m\u001b[0m\n",
      "\u001b[0;31mValueError\u001b[0m: Invalid parameter min_impurity_decrease for estimator DecisionTreeClassifier. Check the list of available parameters with `estimator.get_params().keys()`."
     ]
    }
   ],
   "source": [
    "# Attempting to use a tree-based classifier as the base model. Evaluate Random Forest and Gradient Boosting. \n",
    "# But first, try a basic decision tree. \n",
    "\n",
    "dt = DecisionTreeClassifier()\n",
    "parameter_grid = {'min_impurity_decrease': 3. ** np.arange(-10, 5)}\n",
    "param_searcher = GridSearchCV(dt, parameter_grid, cv=10)\n",
    "param_searcher.fit(train_df[predictors], train_df[target])\n",
    "dt = DecisionTreeClassifier(**param_searcher.best_params_)\n",
    "scores = cross_val_score(dt, train_df[predictors], train_df[target], cv=10)\n",
    "print(\"best gridsearch score with vanilla decision tree and params:\", param_searcher.best_score_,param_searcher.best_params_)\n",
    "print(\"mean gridsearch score with vanilla decision tree:\",scores.mean())"
   ]
  },
  {
   "cell_type": "code",
   "execution_count": null,
   "metadata": {},
   "outputs": [],
   "source": [
    "# Next, evaluate a Random Forest with 500 trees. \n",
    "\n",
    "rf = RandomForestClassifier(n_estimators=500, oob_score=True)\n",
    "scores = cross_val_score(rf, train_df[predictors], train_df[target], cv=10)\n",
    "print (\"Mean R^2 = {:.3}\".format(scores.mean()))"
   ]
  },
  {
   "cell_type": "code",
   "execution_count": null,
   "metadata": {},
   "outputs": [],
   "source": [
    "# Evaluate Random Forest on dev data. \n",
    "\n",
    "rf.fit(train_df[predictors], train_df[target])\n",
    "rf.score(dev_df[predictors], dev_df[target])"
   ]
  },
  {
   "cell_type": "code",
   "execution_count": null,
   "metadata": {},
   "outputs": [],
   "source": [
    "# Evaluate Gradient Boosting classifier with 500 estimators. \n",
    "\n",
    "gb = GradientBoostingClassifier(subsample=.7, n_estimators=500)\n",
    "parameter_grid = {\n",
    "    'max_depth': range(1, 6),\n",
    "    'learning_rate': [.01, .05, .1],\n",
    "    'max_features': [2, 5, 'auto']\n",
    "}\n",
    "param_searcher = GridSearchCV(gb, parameter_grid, cv=5)\n",
    "param_searcher.fit(train_df[predictors], train_df[target])\n",
    "\n",
    "# Evaluate GBC on dev data. \n",
    "\n",
    "gb = GradientBoostingRegressor(subsample=.7, n_estimators=500, **param_searcher.best_params_)\n",
    "gb.fit(train_df[predictors], train_df[target])\n",
    "gb.score(dev_df[predictors],dev_df[target])\n"
   ]
  },
  {
   "cell_type": "markdown",
   "metadata": {
    "collapsed": true
   },
   "source": [
    "It looks like a Random Forest with 500 estimators exhibiting 86% accuracy on dev data is a fairly good  initial choice for a base model to improve upon. Will revisit data normalization, consider demensionality reduction and other prediction models in cells below. "
   ]
  },
  {
   "cell_type": "code",
   "execution_count": 14,
   "metadata": {},
   "outputs": [
    {
     "name": "stdout",
     "output_type": "stream",
     "text": [
      "Variance explained by first 1 principal components: 0.462\n",
      "Variance explained by first 2 principal components: 0.619\n",
      "Variance explained by first 3 principal components: 0.714\n",
      "Variance explained by first 4 principal components: 0.766\n",
      "Variance explained by first 5 principal components: 0.809\n",
      "Variance explained by first 6 principal components: 0.847\n",
      "Variance explained by first 7 principal components: 0.876\n",
      "Variance explained by first 8 principal components: 0.898\n",
      "Variance explained by first 9 principal components: 0.92\n",
      "Variance explained by first 10 principal components: 0.93\n",
      "Variance explained by first 11 principal components: 0.938\n",
      "Variance explained by first 12 principal components: 0.943\n",
      "Variance explained by first 13 principal components: 0.948\n",
      "Variance explained by first 14 principal components: 0.952\n",
      "Variance explained by first 15 principal components: 0.956\n",
      "Variance explained by first 16 principal components: 0.96\n",
      "Variance explained by first 17 principal components: 0.963\n",
      "Variance explained by first 18 principal components: 0.967\n",
      "Variance explained by first 19 principal components: 0.97\n",
      "Variance explained by first 20 principal components: 0.974\n",
      "Variance explained by first 21 principal components: 0.977\n",
      "Variance explained by first 22 principal components: 0.979\n",
      "Variance explained by first 23 principal components: 0.982\n",
      "Variance explained by first 24 principal components: 0.984\n",
      "Variance explained by first 25 principal components: 0.986\n",
      "Variance explained by first 26 principal components: 0.988\n",
      "Variance explained by first 27 principal components: 0.99\n",
      "Variance explained by first 28 principal components: 0.991\n",
      "Variance explained by first 29 principal components: 0.993\n",
      "Variance explained by first 30 principal components: 0.994\n",
      "Variance explained by first 31 principal components: 0.995\n",
      "Variance explained by first 32 principal components: 0.996\n",
      "Variance explained by first 33 principal components: 0.997\n",
      "Variance explained by first 34 principal components: 0.997\n",
      "Variance explained by first 35 principal components: 0.998\n",
      "Variance explained by first 36 principal components: 0.998\n",
      "Variance explained by first 37 principal components: 0.999\n",
      "Variance explained by first 38 principal components: 0.999\n",
      "Variance explained by first 39 principal components: 0.999\n",
      "Variance explained by first 40 principal components: 0.999\n",
      "Variance explained by first 41 principal components: 1.0\n",
      "Variance explained by first 42 principal components: 1.0\n",
      "Variance explained by first 43 principal components: 1.0\n",
      "Variance explained by first 44 principal components: 1.0\n",
      "Variance explained by first 45 principal components: 1.0\n",
      "Variance explained by first 46 principal components: 1.0\n",
      "Variance explained by first 47 principal components: 1.0\n",
      "Variance explained by first 48 principal components: 1.0\n",
      "Variance explained by first 49 principal components: 1.0\n",
      "Variance explained by first 50 principal components: 1.0\n",
      "Variance explained by first 51 principal components: 1.0\n",
      "Variance explained by first 52 principal components: 1.0\n",
      "Variance explained by first 53 principal components: 1.0\n"
     ]
    },
    {
     "data": {
      "text/plain": [
       "[<matplotlib.lines.Line2D at 0x11ac38b00>]"
      ]
     },
     "execution_count": 14,
     "metadata": {},
     "output_type": "execute_result"
    },
    {
     "data": {
      "image/png": "[encoded data removed]",
      "text/plain": [
       "<matplotlib.figure.Figure at 0x119fcada0>"
      ]
     },
     "metadata": {},
     "output_type": "display_data"
    }
   ],
   "source": [
    "#PCA - find explained variance from each PC to determine an appropriate # of dimensions\n",
    "\n",
    "pca_mod = PCA(n_components = 54)\n",
    "pca_mod.fit(train_df[predictors])\n",
    "explained_var = pca_mod.explained_variance_ratio_[0]\n",
    "exp_vars = []\n",
    "\n",
    "for k in range(1,54):\n",
    "    explained_var += pca_mod.explained_variance_ratio_[k]\n",
    "    exp_vars.append(explained_var)\n",
    "    print(\"Variance explained by first\", k, \"principal components:\", round(explained_var,3))\n",
    "    \n",
    "plt.plot(exp_vars)\n",
    "\n",
    "#going to try 27 and 42 dimensions"
   ]
  },
  {
   "cell_type": "code",
   "execution_count": 15,
   "metadata": {},
   "outputs": [
    {
     "name": "stdout",
     "output_type": "stream",
     "text": [
      "Mean R^2 = 0.847\n"
     ]
    },
    {
     "data": {
      "text/plain": [
       "0.8486772486772487"
      ]
     },
     "execution_count": 15,
     "metadata": {},
     "output_type": "execute_result"
    }
   ],
   "source": [
    "#Project data into 42 dimensions\n",
    "n = 42\n",
    "pca_mod = PCA(n_components = n)\n",
    "projected_train = pca_mod.fit_transform(train_df[predictors])\n",
    "projected_dev = pca_mod.transform(dev_df[predictors])\n",
    "\n",
    "\n",
    "# Next, evaluate a Random Forest w PCA with 500 trees. \n",
    "rf_PCA = RandomForestClassifier(n_estimators=500, oob_score=True)\n",
    "scores = cross_val_score(rf_PCA, projected_train, train_df[target], cv=10)\n",
    "print (\"Mean R^2 = {:.3}\".format(scores.mean()))\n",
    "\n",
    "# Evaluate Random Forest w PCA on dev data. \n",
    "rf_PCA.fit(projected_train, train_df[target])\n",
    "rf_PCA.score(projected_dev, dev_df[target])"
   ]
  },
  {
   "cell_type": "code",
   "execution_count": null,
   "metadata": {},
   "outputs": [],
   "source": [
    "#Project data into 27 dimensions\n",
    "n = 27\n",
    "\n",
    "pca_mod = PCA(n_components = n)\n",
    "projected_train = pca_mod.fit_transform(train_df[predictors])\n",
    "projected_dev = pca_mod.transform(dev_df[predictors])\n",
    "\n",
    "\n",
    "# Next, evaluate a Random Forest w PCA with 500 trees. \n",
    "rf_PCA = RandomForestClassifier(n_estimators=500, oob_score=True)\n",
    "scores = cross_val_score(rf_PCA, projected_train, train_df[target], cv=10)\n",
    "print (\"Mean R^2 = {:.3}\".format(scores.mean()))\n",
    "\n",
    "# Evaluate Random Forest w PCA on dev data. \n",
    "rf_PCA.fit(projected_train, train_df[target])\n",
    "rf_PCA.score(projected_dev, dev_df[target])"
   ]
  },
  {
   "cell_type": "code",
   "execution_count": null,
   "metadata": {},
   "outputs": [],
   "source": [
    "## Use L1 Regularization (Logistic regression) to prune feature space\n",
    "\n",
    "# set c values to test\n",
    "C_vals = [0.001, .005, 0.01, 0.05, 0.1, 0.25, 0.5, 2.0]\n",
    "\n",
    "#loop through all c values\n",
    "for c in C_vals:\n",
    "    # logistic regression with l1 regularization\n",
    "    l1_model = LogisticRegression(C = c, penalty=\"l1\")\n",
    "    l1_model.fit(train_df[predictors], train_df[target])\n",
    "\n",
    "    # determine which parameters are non-zero in any class\n",
    "    sum_weights = np.array(l1_model.coef_[0] + l1_model.coef_[1] + l1_model.coef_[2] + l1_model.coef_[3]\n",
    "                          + l1_model.coef_[4] + l1_model.coef_[5] + l1_model.coef_[6])\n",
    "    pred_array = np.array(predictors)\n",
    "    # new_pred is the list of non-zero parameters\n",
    "    new_pred = pred_array[np.where(sum_weights != 0)]\n",
    "    print(\"\\nc-value:\", c, \"number parameters:\", len(new_pred))\n",
    "    \n",
    "    rf_l1 = RandomForestClassifier(n_estimators=500, oob_score=True)\n",
    "    scores = cross_val_score(rf, train_df[new_pred], train_df[target], cv=10)\n",
    "    print (\"Mean R^2 = {:.3}\".format(scores.mean()))\n",
    "\n"
   ]
  },
  {
   "cell_type": "code",
   "execution_count": null,
   "metadata": {},
   "outputs": [],
   "source": [
    "#Same as above - just spot checking the best c-values against the dev data\n",
    "\n",
    "# logistic regression with l1 regularization\n",
    "c = 0.1\n",
    "l1_model = LogisticRegression(C = c, penalty=\"l1\")\n",
    "l1_model.fit(train_df[predictors], train_df[target])\n",
    "\n",
    "# determine which parameters are non-zero in any class\n",
    "sum_weights = np.array(l1_model.coef_[0] + l1_model.coef_[1] + l1_model.coef_[2] + l1_model.coef_[3]\n",
    "                      + l1_model.coef_[4] + l1_model.coef_[5] + l1_model.coef_[6])\n",
    "pred_array = np.array(predictors)\n",
    "# new_pred is the list of non-zero parameters\n",
    "new_pred = pred_array[np.where(sum_weights != 0)]\n",
    "print(\"\\nc-value:\", c, \"number parameters:\", len(new_pred))\n",
    "\n",
    "rf_l1 = RandomForestClassifier(n_estimators=500, oob_score=True)\n",
    "scores = cross_val_score(rf, train_df[new_pred], train_df[target], cv=10)\n",
    "print (\"Mean R^2 = {:.3}\".format(scores.mean()))\n",
    "\n",
    "# Evaluate Random Forest on dev data. \n",
    "rf_l1.fit(train_df[new_pred], train_df[target])\n",
    "rf_l1.score(dev_df[new_pred], dev_df[target])"
   ]
  }
 ],
 "metadata": {
  "kernelspec": {
   "display_name": "Python 3",
   "language": "python",
   "name": "python3"
  },
  "language_info": {
   "codemirror_mode": {
    "name": "ipython",
    "version": 3
   },
   "file_extension": ".py",
   "mimetype": "text/x-python",
   "name": "python",
   "nbconvert_exporter": "python",
   "pygments_lexer": "ipython3",
   "version": "3.6.1"
  }
 },
 "nbformat": 4,
 "nbformat_minor": 2
}
